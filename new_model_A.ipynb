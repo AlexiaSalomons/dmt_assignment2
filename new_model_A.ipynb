{
 "cells": [
  {
   "cell_type": "code",
   "execution_count": 1,
   "metadata": {},
   "outputs": [],
   "source": [
    "import lightgbm as lgb\n",
    "import pandas as pd\n",
    "import numpy as np\n",
    "import matplotlib.pyplot as plt\n",
    "import copy\n",
    "import gc\n",
    "from sklearn.preprocessing import StandardScaler,OneHotEncoder,LabelEncoder\n",
    "from sklearn.model_selection import train_test_split\n",
    "from sklearn.metrics import ndcg_score\n",
    "from sklearn.impute import SimpleImputer\n",
    "import datetime"
   ]
  },
  {
   "cell_type": "code",
   "execution_count": 2,
   "metadata": {},
   "outputs": [],
   "source": [
    "def replace_nan_with_mean(df,cols):\n",
    "    \"\"\"\n",
    "    Completing missing numerical values (NaN) from columns. NaN values are replaced by the column's mean\n",
    "    Args:\n",
    "        @string_cols:  (list of column indexes) string columns to complete\n",
    "    \"\"\"\n",
    "    imp_mean = SimpleImputer(missing_values=np.nan, strategy='mean')\n",
    "\n",
    "    imp_mean = imp_mean.fit(df[cols])\n",
    "\n",
    "    df[cols] = imp_mean.transform(df[cols])\n",
    "\n",
    "    return df"
   ]
  },
  {
   "cell_type": "code",
   "execution_count": 3,
   "metadata": {},
   "outputs": [],
   "source": [
    "def replace_nan_with_median(df,cols):\n",
    "    imp_mean = SimpleImputer(missing_values=np.nan, strategy='median')\n",
    "\n",
    "    imp_mean = imp_mean.fit(df[cols])\n",
    "\n",
    "    df[cols] = imp_mean.transform(df[cols])\n",
    "\n",
    "    return df"
   ]
  },
  {
   "cell_type": "code",
   "execution_count": 4,
   "metadata": {},
   "outputs": [],
   "source": [
    "def replace_nan_with_value(df,col,value):\n",
    "    imp_mean = SimpleImputer(missing_values=np.nan, strategy='constant',fill_value=value)\n",
    "\n",
    "    imp_mean = imp_mean.fit(df[[col]])\n",
    "\n",
    "    df[col] = imp_mean.transform(df[[col]])\n",
    "\n",
    "    return df"
   ]
  },
  {
   "cell_type": "code",
   "execution_count": 5,
   "metadata": {},
   "outputs": [
    {
     "name": "stdout",
     "output_type": "stream",
     "text": [
      "vu-dmt-assigment-2-2023.zip: Skipping, found more recently modified local copy (use --force to force download)\n"
     ]
    }
   ],
   "source": [
    "!kaggle competitions download -c vu-dmt-assigment-2-2023\n",
    "training_data = pd.read_csv('vu-dmt-assigment-2-2023/training_set_VU_DM.csv')\n",
    "test_data = pd.read_csv('vu-dmt-assigment-2-2023/test_set_VU_DM.csv')"
   ]
  },
  {
   "cell_type": "code",
   "execution_count": 6,
   "metadata": {},
   "outputs": [],
   "source": [
    "#create new column for NDCG evaluation\n",
    "training_data['target_col'] = (5* training_data['booking_bool']) + training_data['click_bool']"
   ]
  },
  {
   "cell_type": "code",
   "execution_count": null,
   "metadata": {},
   "outputs": [],
   "source": [
    "#Create one location score column\n",
    "training_data['location_score'] = ((training_data['prop_location_score1'] + training_data['prop_location_score2']) / 2)"
   ]
  },
  {
   "cell_type": "code",
   "execution_count": 7,
   "metadata": {},
   "outputs": [],
   "source": [
    "#Count how often a prop_id shows up\n",
    "z = training_data['prop_id'].value_counts() \n",
    "z1 = z.to_dict() #converts to dictionary\n",
    "training_data['Count_Column'] = training_data['prop_id'].map(z1) "
   ]
  },
  {
   "cell_type": "code",
   "execution_count": 8,
   "metadata": {},
   "outputs": [],
   "source": [
    "training_data.to_csv(\"training_set_TRANS.csv\", index=False)"
   ]
  },
  {
   "cell_type": "code",
   "execution_count": 9,
   "metadata": {},
   "outputs": [],
   "source": [
    "training_data = pd.read_csv(\"training_set_TRANS.csv\")"
   ]
  },
  {
   "cell_type": "code",
   "execution_count": 10,
   "metadata": {},
   "outputs": [
    {
     "data": {
      "text/plain": [
       "0"
      ]
     },
     "execution_count": 10,
     "metadata": {},
     "output_type": "execute_result"
    }
   ],
   "source": [
    "gc.collect()"
   ]
  },
  {
   "cell_type": "code",
   "execution_count": 11,
   "metadata": {},
   "outputs": [],
   "source": [
    "aux_training = copy.copy(training_data)"
   ]
  },
  {
   "cell_type": "code",
   "execution_count": 12,
   "metadata": {},
   "outputs": [
    {
     "data": {
      "text/html": [
       "<div>\n",
       "<style scoped>\n",
       "    .dataframe tbody tr th:only-of-type {\n",
       "        vertical-align: middle;\n",
       "    }\n",
       "\n",
       "    .dataframe tbody tr th {\n",
       "        vertical-align: top;\n",
       "    }\n",
       "\n",
       "    .dataframe thead th {\n",
       "        text-align: right;\n",
       "    }\n",
       "</style>\n",
       "<table border=\"1\" class=\"dataframe\">\n",
       "  <thead>\n",
       "    <tr style=\"text-align: right;\">\n",
       "      <th></th>\n",
       "      <th>srch_id</th>\n",
       "      <th>date_time</th>\n",
       "      <th>site_id</th>\n",
       "      <th>visitor_location_country_id</th>\n",
       "      <th>visitor_hist_starrating</th>\n",
       "      <th>visitor_hist_adr_usd</th>\n",
       "      <th>prop_country_id</th>\n",
       "      <th>prop_id</th>\n",
       "      <th>prop_starrating</th>\n",
       "      <th>prop_review_score</th>\n",
       "      <th>...</th>\n",
       "      <th>comp7_inv</th>\n",
       "      <th>comp7_rate_percent_diff</th>\n",
       "      <th>comp8_rate</th>\n",
       "      <th>comp8_inv</th>\n",
       "      <th>comp8_rate_percent_diff</th>\n",
       "      <th>click_bool</th>\n",
       "      <th>gross_bookings_usd</th>\n",
       "      <th>booking_bool</th>\n",
       "      <th>target_col</th>\n",
       "      <th>Count_Column</th>\n",
       "    </tr>\n",
       "  </thead>\n",
       "  <tbody>\n",
       "    <tr>\n",
       "      <th>0</th>\n",
       "      <td>1</td>\n",
       "      <td>2013-04-04 08:32:15</td>\n",
       "      <td>12</td>\n",
       "      <td>187</td>\n",
       "      <td>NaN</td>\n",
       "      <td>NaN</td>\n",
       "      <td>219</td>\n",
       "      <td>893</td>\n",
       "      <td>3</td>\n",
       "      <td>3.5</td>\n",
       "      <td>...</td>\n",
       "      <td>NaN</td>\n",
       "      <td>NaN</td>\n",
       "      <td>0.0</td>\n",
       "      <td>0.0</td>\n",
       "      <td>NaN</td>\n",
       "      <td>0</td>\n",
       "      <td>NaN</td>\n",
       "      <td>0</td>\n",
       "      <td>0</td>\n",
       "      <td>612</td>\n",
       "    </tr>\n",
       "    <tr>\n",
       "      <th>1</th>\n",
       "      <td>1</td>\n",
       "      <td>2013-04-04 08:32:15</td>\n",
       "      <td>12</td>\n",
       "      <td>187</td>\n",
       "      <td>NaN</td>\n",
       "      <td>NaN</td>\n",
       "      <td>219</td>\n",
       "      <td>10404</td>\n",
       "      <td>4</td>\n",
       "      <td>4.0</td>\n",
       "      <td>...</td>\n",
       "      <td>NaN</td>\n",
       "      <td>NaN</td>\n",
       "      <td>0.0</td>\n",
       "      <td>0.0</td>\n",
       "      <td>NaN</td>\n",
       "      <td>0</td>\n",
       "      <td>NaN</td>\n",
       "      <td>0</td>\n",
       "      <td>0</td>\n",
       "      <td>583</td>\n",
       "    </tr>\n",
       "    <tr>\n",
       "      <th>2</th>\n",
       "      <td>1</td>\n",
       "      <td>2013-04-04 08:32:15</td>\n",
       "      <td>12</td>\n",
       "      <td>187</td>\n",
       "      <td>NaN</td>\n",
       "      <td>NaN</td>\n",
       "      <td>219</td>\n",
       "      <td>21315</td>\n",
       "      <td>3</td>\n",
       "      <td>4.5</td>\n",
       "      <td>...</td>\n",
       "      <td>NaN</td>\n",
       "      <td>NaN</td>\n",
       "      <td>0.0</td>\n",
       "      <td>0.0</td>\n",
       "      <td>NaN</td>\n",
       "      <td>0</td>\n",
       "      <td>NaN</td>\n",
       "      <td>0</td>\n",
       "      <td>0</td>\n",
       "      <td>551</td>\n",
       "    </tr>\n",
       "    <tr>\n",
       "      <th>3</th>\n",
       "      <td>1</td>\n",
       "      <td>2013-04-04 08:32:15</td>\n",
       "      <td>12</td>\n",
       "      <td>187</td>\n",
       "      <td>NaN</td>\n",
       "      <td>NaN</td>\n",
       "      <td>219</td>\n",
       "      <td>27348</td>\n",
       "      <td>2</td>\n",
       "      <td>4.0</td>\n",
       "      <td>...</td>\n",
       "      <td>NaN</td>\n",
       "      <td>NaN</td>\n",
       "      <td>-1.0</td>\n",
       "      <td>0.0</td>\n",
       "      <td>5.0</td>\n",
       "      <td>0</td>\n",
       "      <td>NaN</td>\n",
       "      <td>0</td>\n",
       "      <td>0</td>\n",
       "      <td>460</td>\n",
       "    </tr>\n",
       "    <tr>\n",
       "      <th>4</th>\n",
       "      <td>1</td>\n",
       "      <td>2013-04-04 08:32:15</td>\n",
       "      <td>12</td>\n",
       "      <td>187</td>\n",
       "      <td>NaN</td>\n",
       "      <td>NaN</td>\n",
       "      <td>219</td>\n",
       "      <td>29604</td>\n",
       "      <td>4</td>\n",
       "      <td>3.5</td>\n",
       "      <td>...</td>\n",
       "      <td>NaN</td>\n",
       "      <td>NaN</td>\n",
       "      <td>0.0</td>\n",
       "      <td>0.0</td>\n",
       "      <td>NaN</td>\n",
       "      <td>0</td>\n",
       "      <td>NaN</td>\n",
       "      <td>0</td>\n",
       "      <td>0</td>\n",
       "      <td>665</td>\n",
       "    </tr>\n",
       "    <tr>\n",
       "      <th>...</th>\n",
       "      <td>...</td>\n",
       "      <td>...</td>\n",
       "      <td>...</td>\n",
       "      <td>...</td>\n",
       "      <td>...</td>\n",
       "      <td>...</td>\n",
       "      <td>...</td>\n",
       "      <td>...</td>\n",
       "      <td>...</td>\n",
       "      <td>...</td>\n",
       "      <td>...</td>\n",
       "      <td>...</td>\n",
       "      <td>...</td>\n",
       "      <td>...</td>\n",
       "      <td>...</td>\n",
       "      <td>...</td>\n",
       "      <td>...</td>\n",
       "      <td>...</td>\n",
       "      <td>...</td>\n",
       "      <td>...</td>\n",
       "      <td>...</td>\n",
       "    </tr>\n",
       "    <tr>\n",
       "      <th>4958342</th>\n",
       "      <td>332785</td>\n",
       "      <td>2013-06-30 19:55:18</td>\n",
       "      <td>5</td>\n",
       "      <td>219</td>\n",
       "      <td>NaN</td>\n",
       "      <td>NaN</td>\n",
       "      <td>219</td>\n",
       "      <td>77700</td>\n",
       "      <td>3</td>\n",
       "      <td>4.0</td>\n",
       "      <td>...</td>\n",
       "      <td>NaN</td>\n",
       "      <td>NaN</td>\n",
       "      <td>NaN</td>\n",
       "      <td>NaN</td>\n",
       "      <td>NaN</td>\n",
       "      <td>0</td>\n",
       "      <td>NaN</td>\n",
       "      <td>0</td>\n",
       "      <td>0</td>\n",
       "      <td>47</td>\n",
       "    </tr>\n",
       "    <tr>\n",
       "      <th>4958343</th>\n",
       "      <td>332785</td>\n",
       "      <td>2013-06-30 19:55:18</td>\n",
       "      <td>5</td>\n",
       "      <td>219</td>\n",
       "      <td>NaN</td>\n",
       "      <td>NaN</td>\n",
       "      <td>219</td>\n",
       "      <td>88083</td>\n",
       "      <td>3</td>\n",
       "      <td>4.0</td>\n",
       "      <td>...</td>\n",
       "      <td>NaN</td>\n",
       "      <td>NaN</td>\n",
       "      <td>NaN</td>\n",
       "      <td>NaN</td>\n",
       "      <td>NaN</td>\n",
       "      <td>0</td>\n",
       "      <td>NaN</td>\n",
       "      <td>0</td>\n",
       "      <td>0</td>\n",
       "      <td>38</td>\n",
       "    </tr>\n",
       "    <tr>\n",
       "      <th>4958344</th>\n",
       "      <td>332785</td>\n",
       "      <td>2013-06-30 19:55:18</td>\n",
       "      <td>5</td>\n",
       "      <td>219</td>\n",
       "      <td>NaN</td>\n",
       "      <td>NaN</td>\n",
       "      <td>219</td>\n",
       "      <td>94508</td>\n",
       "      <td>3</td>\n",
       "      <td>3.5</td>\n",
       "      <td>...</td>\n",
       "      <td>NaN</td>\n",
       "      <td>NaN</td>\n",
       "      <td>NaN</td>\n",
       "      <td>NaN</td>\n",
       "      <td>NaN</td>\n",
       "      <td>0</td>\n",
       "      <td>NaN</td>\n",
       "      <td>0</td>\n",
       "      <td>0</td>\n",
       "      <td>43</td>\n",
       "    </tr>\n",
       "    <tr>\n",
       "      <th>4958345</th>\n",
       "      <td>332785</td>\n",
       "      <td>2013-06-30 19:55:18</td>\n",
       "      <td>5</td>\n",
       "      <td>219</td>\n",
       "      <td>NaN</td>\n",
       "      <td>NaN</td>\n",
       "      <td>219</td>\n",
       "      <td>128360</td>\n",
       "      <td>3</td>\n",
       "      <td>5.0</td>\n",
       "      <td>...</td>\n",
       "      <td>NaN</td>\n",
       "      <td>NaN</td>\n",
       "      <td>NaN</td>\n",
       "      <td>NaN</td>\n",
       "      <td>NaN</td>\n",
       "      <td>1</td>\n",
       "      <td>157.84</td>\n",
       "      <td>1</td>\n",
       "      <td>6</td>\n",
       "      <td>37</td>\n",
       "    </tr>\n",
       "    <tr>\n",
       "      <th>4958346</th>\n",
       "      <td>332785</td>\n",
       "      <td>2013-06-30 19:55:18</td>\n",
       "      <td>5</td>\n",
       "      <td>219</td>\n",
       "      <td>NaN</td>\n",
       "      <td>NaN</td>\n",
       "      <td>219</td>\n",
       "      <td>134949</td>\n",
       "      <td>3</td>\n",
       "      <td>2.5</td>\n",
       "      <td>...</td>\n",
       "      <td>NaN</td>\n",
       "      <td>NaN</td>\n",
       "      <td>NaN</td>\n",
       "      <td>NaN</td>\n",
       "      <td>NaN</td>\n",
       "      <td>0</td>\n",
       "      <td>NaN</td>\n",
       "      <td>0</td>\n",
       "      <td>0</td>\n",
       "      <td>12</td>\n",
       "    </tr>\n",
       "  </tbody>\n",
       "</table>\n",
       "<p>4958347 rows × 56 columns</p>\n",
       "</div>"
      ],
      "text/plain": [
       "         srch_id            date_time  site_id  visitor_location_country_id  \\\n",
       "0              1  2013-04-04 08:32:15       12                          187   \n",
       "1              1  2013-04-04 08:32:15       12                          187   \n",
       "2              1  2013-04-04 08:32:15       12                          187   \n",
       "3              1  2013-04-04 08:32:15       12                          187   \n",
       "4              1  2013-04-04 08:32:15       12                          187   \n",
       "...          ...                  ...      ...                          ...   \n",
       "4958342   332785  2013-06-30 19:55:18        5                          219   \n",
       "4958343   332785  2013-06-30 19:55:18        5                          219   \n",
       "4958344   332785  2013-06-30 19:55:18        5                          219   \n",
       "4958345   332785  2013-06-30 19:55:18        5                          219   \n",
       "4958346   332785  2013-06-30 19:55:18        5                          219   \n",
       "\n",
       "         visitor_hist_starrating  visitor_hist_adr_usd  prop_country_id  \\\n",
       "0                            NaN                   NaN              219   \n",
       "1                            NaN                   NaN              219   \n",
       "2                            NaN                   NaN              219   \n",
       "3                            NaN                   NaN              219   \n",
       "4                            NaN                   NaN              219   \n",
       "...                          ...                   ...              ...   \n",
       "4958342                      NaN                   NaN              219   \n",
       "4958343                      NaN                   NaN              219   \n",
       "4958344                      NaN                   NaN              219   \n",
       "4958345                      NaN                   NaN              219   \n",
       "4958346                      NaN                   NaN              219   \n",
       "\n",
       "         prop_id  prop_starrating  prop_review_score  ...  comp7_inv  \\\n",
       "0            893                3                3.5  ...        NaN   \n",
       "1          10404                4                4.0  ...        NaN   \n",
       "2          21315                3                4.5  ...        NaN   \n",
       "3          27348                2                4.0  ...        NaN   \n",
       "4          29604                4                3.5  ...        NaN   \n",
       "...          ...              ...                ...  ...        ...   \n",
       "4958342    77700                3                4.0  ...        NaN   \n",
       "4958343    88083                3                4.0  ...        NaN   \n",
       "4958344    94508                3                3.5  ...        NaN   \n",
       "4958345   128360                3                5.0  ...        NaN   \n",
       "4958346   134949                3                2.5  ...        NaN   \n",
       "\n",
       "         comp7_rate_percent_diff  comp8_rate  comp8_inv  \\\n",
       "0                            NaN         0.0        0.0   \n",
       "1                            NaN         0.0        0.0   \n",
       "2                            NaN         0.0        0.0   \n",
       "3                            NaN        -1.0        0.0   \n",
       "4                            NaN         0.0        0.0   \n",
       "...                          ...         ...        ...   \n",
       "4958342                      NaN         NaN        NaN   \n",
       "4958343                      NaN         NaN        NaN   \n",
       "4958344                      NaN         NaN        NaN   \n",
       "4958345                      NaN         NaN        NaN   \n",
       "4958346                      NaN         NaN        NaN   \n",
       "\n",
       "         comp8_rate_percent_diff  click_bool  gross_bookings_usd  \\\n",
       "0                            NaN           0                 NaN   \n",
       "1                            NaN           0                 NaN   \n",
       "2                            NaN           0                 NaN   \n",
       "3                            5.0           0                 NaN   \n",
       "4                            NaN           0                 NaN   \n",
       "...                          ...         ...                 ...   \n",
       "4958342                      NaN           0                 NaN   \n",
       "4958343                      NaN           0                 NaN   \n",
       "4958344                      NaN           0                 NaN   \n",
       "4958345                      NaN           1              157.84   \n",
       "4958346                      NaN           0                 NaN   \n",
       "\n",
       "         booking_bool  target_col  Count_Column  \n",
       "0                   0           0           612  \n",
       "1                   0           0           583  \n",
       "2                   0           0           551  \n",
       "3                   0           0           460  \n",
       "4                   0           0           665  \n",
       "...               ...         ...           ...  \n",
       "4958342             0           0            47  \n",
       "4958343             0           0            38  \n",
       "4958344             0           0            43  \n",
       "4958345             1           6            37  \n",
       "4958346             0           0            12  \n",
       "\n",
       "[4958347 rows x 56 columns]"
      ]
     },
     "execution_count": 12,
     "metadata": {},
     "output_type": "execute_result"
    }
   ],
   "source": [
    "aux_training"
   ]
  },
  {
   "cell_type": "code",
   "execution_count": null,
   "metadata": {},
   "outputs": [],
   "source": [
    "aux_training = replace_nan_with_mean(aux_training,[\"visitor_hist_starrating\",\"visitor_hist_adr_usd\"])\n",
    "aux_training = replace_nan_with_median(aux_training,[\"orig_destination_distance\"])\n",
    "\n",
    "col_min = aux_training[\"srch_query_affinity_score\"].min() # minimum of col\n",
    "aux_training = replace_nan_with_value(aux_training,'srch_query_affinity_score',col_min)\n",
    "\n",
    "col_min = aux_training[\"prop_starrating\"].min() # minimum of col\n",
    "aux_training = replace_nan_with_value(aux_training,'prop_starrating',col_min)\n",
    "\n",
    "col_min = aux_training[\"prop_review_score\"].min() # minimum of col\n",
    "aux_training = replace_nan_with_value(aux_training,'prop_review_score',col_min)\n",
    "\n",
    "col_min = aux_training[\"location_score\"].min() # minimum of col\n",
    "aux_training = replace_nan_with_value(aux_training,'location_score',col_min)"
   ]
  },
  {
   "cell_type": "code",
   "execution_count": null,
   "metadata": {},
   "outputs": [],
   "source": [
    "aux_training = aux_training.drop('click_bool', axis=1)   #replaced by target_col and not in test set \n",
    "aux_training = aux_training.drop('booking_bool', axis=1) #replaced by target_col and not in test set \n",
    "aux_training = aux_training.drop('position', axis=1)     # not in test set \n",
    "aux_training = aux_training.drop('gross_bookings_usd', axis=1)\n",
    "aux_training = aux_training.drop('prop_location_score1', axis=1)\n",
    "aux_training = aux_training.drop('prop_location_score2', axis=1)\n",
    "aux_training = aux_training.drop(['date_time'], axis=1)"
   ]
  },
  {
   "cell_type": "code",
   "execution_count": null,
   "metadata": {},
   "outputs": [
    {
     "name": "stdout",
     "output_type": "stream",
     "text": [
      "Empty values per column: \n",
      " srch_id                              0\n",
      "site_id                              0\n",
      "visitor_location_country_id          0\n",
      "visitor_hist_starrating              0\n",
      "visitor_hist_adr_usd                 0\n",
      "prop_country_id                      0\n",
      "prop_id                              0\n",
      "prop_starrating                      0\n",
      "prop_review_score                    0\n",
      "prop_brand_bool                      0\n",
      "prop_location_score1                 0\n",
      "prop_location_score2                 0\n",
      "prop_log_historical_price            0\n",
      "price_usd                            0\n",
      "promotion_flag                       0\n",
      "srch_destination_id                  0\n",
      "srch_length_of_stay                  0\n",
      "srch_booking_window                  0\n",
      "srch_adults_count                    0\n",
      "srch_children_count                  0\n",
      "srch_room_count                      0\n",
      "srch_saturday_night_bool             0\n",
      "srch_query_affinity_score            0\n",
      "orig_destination_distance            0\n",
      "random_bool                          0\n",
      "comp1_rate                     4838417\n",
      "comp1_inv                      4828788\n",
      "comp1_rate_percent_diff        4863908\n",
      "comp2_rate                     2933675\n",
      "comp2_inv                      2828078\n",
      "comp2_rate_percent_diff        4402109\n",
      "comp3_rate                     3424059\n",
      "comp3_inv                      3307357\n",
      "comp3_rate_percent_diff        4485550\n",
      "comp4_rate                     4650969\n",
      "comp4_inv                      4614684\n",
      "comp4_rate_percent_diff        4827261\n",
      "comp5_rate                     2735974\n",
      "comp5_inv                      2598327\n",
      "comp5_rate_percent_diff        4117248\n",
      "comp6_rate                     4718190\n",
      "comp6_inv                      4697371\n",
      "comp6_rate_percent_diff        4862173\n",
      "comp7_rate                     4642999\n",
      "comp7_inv                      4601925\n",
      "comp7_rate_percent_diff        4819832\n",
      "comp8_rate                     3041693\n",
      "comp8_inv                      2970844\n",
      "comp8_rate_percent_diff        4343617\n",
      "target_col                           0\n",
      "Count_Column                         0\n",
      "dtype: int64\n"
     ]
    }
   ],
   "source": [
    "print(\"Empty values per column: \\n\",aux_training.isnull().sum())"
   ]
  },
  {
   "cell_type": "code",
   "execution_count": null,
   "metadata": {},
   "outputs": [],
   "source": [
    "#Separate features from target\n",
    "feature = aux_training.drop('target_col', axis=1)\n",
    "target  =  aux_training['target_col']"
   ]
  },
  {
   "cell_type": "code",
   "execution_count": null,
   "metadata": {},
   "outputs": [],
   "source": [
    "X_train, X_val, y_train, y_val = train_test_split(feature, target, test_size=0.2, random_state=1)"
   ]
  },
  {
   "cell_type": "code",
   "execution_count": null,
   "metadata": {},
   "outputs": [
    {
     "name": "stdout",
     "output_type": "stream",
     "text": [
      "X_train.shape =  (3966677, 50)\n",
      "X_val.shape =  (991670, 50)\n",
      "\n",
      "y_train.shape =  (3966677,)\n",
      "y_val.shape =  (991670,)\n"
     ]
    }
   ],
   "source": [
    "print(\"X_train.shape = \",X_train.shape)\n",
    "print(\"X_val.shape = \",X_val.shape)\n",
    "print(\"\\ny_train.shape = \",y_train.shape)\n",
    "print(\"y_val.shape = \",y_val.shape)"
   ]
  },
  {
   "cell_type": "code",
   "execution_count": null,
   "metadata": {},
   "outputs": [],
   "source": [
    "X_train = X_train.sort_index()\n",
    "y_train = y_train.sort_index()\n",
    "\n",
    "X_val = X_val.sort_index()\n",
    "y_val = y_val.sort_index()"
   ]
  },
  {
   "cell_type": "code",
   "execution_count": null,
   "metadata": {},
   "outputs": [],
   "source": [
    "# Get the number of rows of each query (srch_id) needed to train the model.\n",
    "qids_train = X_train.groupby(\"srch_id\")[\"srch_id\"].count().to_numpy() \n",
    "qids_val   = X_val.groupby(\"srch_id\")[\"srch_id\"].count().to_numpy()"
   ]
  },
  {
   "cell_type": "code",
   "execution_count": null,
   "metadata": {},
   "outputs": [
    {
     "name": "stdout",
     "output_type": "stream",
     "text": [
      "query train ids mean:  19.853933821505258\n",
      "query val   ids mean:  5.134355713871516\n"
     ]
    }
   ],
   "source": [
    "print(\"query train ids mean: \",qids_train.mean()) \n",
    "print(\"query val   ids mean: \",qids_val.mean()) "
   ]
  },
  {
   "cell_type": "code",
   "execution_count": null,
   "metadata": {},
   "outputs": [],
   "source": [
    "FIXED_PARAMS={\n",
    "              'objective'             : 'lambdarank',\n",
    "              'metric'                : 'ndcg',\n",
    "              'boosting_type'         : 'dart',\n",
    "              'is_unbalance'          : True,\n",
    "              'num_iterations'        : 100,\n",
    "              'early_stopping_rounds' : 10}\n",
    "\n",
    "SEARCH_PARAMS = {'learning_rate': 0.15,\n",
    "                 'max_depth': 15,\n",
    "                 'num_leaves': 25,\n",
    "                 'feature_fraction': 0.8,\n",
    "                 'subsample': 0.2,\n",
    "                 'n_estimators' : 100}\n",
    "\n",
    "gbm = lgb.LGBMRanker( \n",
    "        objective               = FIXED_PARAMS[\"objective\"],\n",
    "        metric                  = FIXED_PARAMS[\"metric\"],\n",
    "        boosting_type           = FIXED_PARAMS[\"boosting_type\"],\n",
    "        is_unbalance            = FIXED_PARAMS[\"is_unbalance\"],\n",
    "        num_iterations          = FIXED_PARAMS[\"num_iterations\"],\n",
    "        early_stopping_rounds   = FIXED_PARAMS[\"early_stopping_rounds\"],\n",
    "        learning_rate           = SEARCH_PARAMS[\"learning_rate\"],\n",
    "        max_depth               = SEARCH_PARAMS[\"max_depth\"],\n",
    "        num_leaves              = SEARCH_PARAMS[\"num_leaves\"],\n",
    "        feature_fraction        = SEARCH_PARAMS[\"feature_fraction\"],\n",
    "        subsample               = SEARCH_PARAMS[\"subsample\"],\n",
    "        n_estimators            = SEARCH_PARAMS[\"n_estimators\"],\n",
    ")"
   ]
  },
  {
   "cell_type": "code",
   "execution_count": null,
   "metadata": {},
   "outputs": [
    {
     "name": "stderr",
     "output_type": "stream",
     "text": [
      "C:\\Users\\alexi\\AppData\\Local\\Packages\\PythonSoftwareFoundation.Python.3.10_qbz5n2kfra8p0\\LocalCache\\local-packages\\Python310\\site-packages\\lightgbm\\engine.py:177: UserWarning: Found `num_iterations` in params. Will use it instead of argument\n",
      "  _log_warning(f\"Found `{alias}` in params. Will use it instead of argument\")\n"
     ]
    },
    {
     "name": "stdout",
     "output_type": "stream",
     "text": [
      "[LightGBM] [Warning] feature_fraction is set=0.8, colsample_bytree=1.0 will be ignored. Current value: feature_fraction=0.8\n",
      "[LightGBM] [Warning] early_stopping_round is set=10, early_stopping_rounds=10 will be ignored. Current value: early_stopping_round=10\n",
      "[1]\tvalid_0's ndcg@1: 0.851214\tvalid_0's ndcg@2: 0.880653\tvalid_0's ndcg@3: 0.896805\tvalid_0's ndcg@4: 0.907191\tvalid_0's ndcg@5: 0.913637\n"
     ]
    },
    {
     "name": "stderr",
     "output_type": "stream",
     "text": [
      "C:\\Users\\alexi\\AppData\\Local\\Packages\\PythonSoftwareFoundation.Python.3.10_qbz5n2kfra8p0\\LocalCache\\local-packages\\Python310\\site-packages\\lightgbm\\callback.py:223: UserWarning: Early stopping is not available in dart mode\n",
      "  _log_warning('Early stopping is not available in dart mode')\n"
     ]
    },
    {
     "name": "stdout",
     "output_type": "stream",
     "text": [
      "[2]\tvalid_0's ndcg@1: 0.868394\tvalid_0's ndcg@2: 0.898568\tvalid_0's ndcg@3: 0.913973\tvalid_0's ndcg@4: 0.92241\tvalid_0's ndcg@5: 0.927528\n",
      "[3]\tvalid_0's ndcg@1: 0.871946\tvalid_0's ndcg@2: 0.902075\tvalid_0's ndcg@3: 0.917142\tvalid_0's ndcg@4: 0.925221\tvalid_0's ndcg@5: 0.930005\n",
      "[4]\tvalid_0's ndcg@1: 0.873416\tvalid_0's ndcg@2: 0.90344\tvalid_0's ndcg@3: 0.918451\tvalid_0's ndcg@4: 0.926326\tvalid_0's ndcg@5: 0.931054\n",
      "[5]\tvalid_0's ndcg@1: 0.875037\tvalid_0's ndcg@2: 0.90505\tvalid_0's ndcg@3: 0.919635\tvalid_0's ndcg@4: 0.927492\tvalid_0's ndcg@5: 0.932135\n",
      "[6]\tvalid_0's ndcg@1: 0.876083\tvalid_0's ndcg@2: 0.905701\tvalid_0's ndcg@3: 0.920414\tvalid_0's ndcg@4: 0.928192\tvalid_0's ndcg@5: 0.932791\n",
      "[7]\tvalid_0's ndcg@1: 0.876751\tvalid_0's ndcg@2: 0.906436\tvalid_0's ndcg@3: 0.920877\tvalid_0's ndcg@4: 0.928636\tvalid_0's ndcg@5: 0.933206\n",
      "[8]\tvalid_0's ndcg@1: 0.877134\tvalid_0's ndcg@2: 0.906629\tvalid_0's ndcg@3: 0.921306\tvalid_0's ndcg@4: 0.929072\tvalid_0's ndcg@5: 0.933493\n",
      "[9]\tvalid_0's ndcg@1: 0.877962\tvalid_0's ndcg@2: 0.907198\tvalid_0's ndcg@3: 0.921925\tvalid_0's ndcg@4: 0.929582\tvalid_0's ndcg@5: 0.934005\n",
      "[10]\tvalid_0's ndcg@1: 0.878226\tvalid_0's ndcg@2: 0.907531\tvalid_0's ndcg@3: 0.922169\tvalid_0's ndcg@4: 0.929744\tvalid_0's ndcg@5: 0.934257\n",
      "[11]\tvalid_0's ndcg@1: 0.878692\tvalid_0's ndcg@2: 0.907965\tvalid_0's ndcg@3: 0.922402\tvalid_0's ndcg@4: 0.930047\tvalid_0's ndcg@5: 0.9345\n",
      "[12]\tvalid_0's ndcg@1: 0.878723\tvalid_0's ndcg@2: 0.908129\tvalid_0's ndcg@3: 0.922558\tvalid_0's ndcg@4: 0.930145\tvalid_0's ndcg@5: 0.934607\n",
      "[13]\tvalid_0's ndcg@1: 0.878883\tvalid_0's ndcg@2: 0.908332\tvalid_0's ndcg@3: 0.9228\tvalid_0's ndcg@4: 0.930258\tvalid_0's ndcg@5: 0.934673\n",
      "[14]\tvalid_0's ndcg@1: 0.879298\tvalid_0's ndcg@2: 0.908512\tvalid_0's ndcg@3: 0.922996\tvalid_0's ndcg@4: 0.930479\tvalid_0's ndcg@5: 0.934872\n",
      "[15]\tvalid_0's ndcg@1: 0.879649\tvalid_0's ndcg@2: 0.908967\tvalid_0's ndcg@3: 0.92328\tvalid_0's ndcg@4: 0.930731\tvalid_0's ndcg@5: 0.935143\n",
      "[16]\tvalid_0's ndcg@1: 0.879944\tvalid_0's ndcg@2: 0.909089\tvalid_0's ndcg@3: 0.923394\tvalid_0's ndcg@4: 0.930872\tvalid_0's ndcg@5: 0.935265\n",
      "[17]\tvalid_0's ndcg@1: 0.879831\tvalid_0's ndcg@2: 0.909082\tvalid_0's ndcg@3: 0.923411\tvalid_0's ndcg@4: 0.930808\tvalid_0's ndcg@5: 0.935204\n",
      "[18]\tvalid_0's ndcg@1: 0.879955\tvalid_0's ndcg@2: 0.909334\tvalid_0's ndcg@3: 0.923587\tvalid_0's ndcg@4: 0.931011\tvalid_0's ndcg@5: 0.935395\n",
      "[19]\tvalid_0's ndcg@1: 0.880074\tvalid_0's ndcg@2: 0.909349\tvalid_0's ndcg@3: 0.92363\tvalid_0's ndcg@4: 0.931064\tvalid_0's ndcg@5: 0.935417\n",
      "[20]\tvalid_0's ndcg@1: 0.880458\tvalid_0's ndcg@2: 0.909647\tvalid_0's ndcg@3: 0.923844\tvalid_0's ndcg@4: 0.931281\tvalid_0's ndcg@5: 0.935672\n",
      "[21]\tvalid_0's ndcg@1: 0.880168\tvalid_0's ndcg@2: 0.909452\tvalid_0's ndcg@3: 0.923777\tvalid_0's ndcg@4: 0.93118\tvalid_0's ndcg@5: 0.935528\n",
      "[22]\tvalid_0's ndcg@1: 0.880251\tvalid_0's ndcg@2: 0.909543\tvalid_0's ndcg@3: 0.923845\tvalid_0's ndcg@4: 0.931249\tvalid_0's ndcg@5: 0.935567\n",
      "[23]\tvalid_0's ndcg@1: 0.880546\tvalid_0's ndcg@2: 0.909689\tvalid_0's ndcg@3: 0.923946\tvalid_0's ndcg@4: 0.931367\tvalid_0's ndcg@5: 0.9357\n",
      "[24]\tvalid_0's ndcg@1: 0.88054\tvalid_0's ndcg@2: 0.909773\tvalid_0's ndcg@3: 0.924146\tvalid_0's ndcg@4: 0.931475\tvalid_0's ndcg@5: 0.935801\n",
      "[25]\tvalid_0's ndcg@1: 0.880659\tvalid_0's ndcg@2: 0.909889\tvalid_0's ndcg@3: 0.924271\tvalid_0's ndcg@4: 0.931572\tvalid_0's ndcg@5: 0.93588\n",
      "[26]\tvalid_0's ndcg@1: 0.88054\tvalid_0's ndcg@2: 0.909921\tvalid_0's ndcg@3: 0.924178\tvalid_0's ndcg@4: 0.931479\tvalid_0's ndcg@5: 0.935823\n",
      "[27]\tvalid_0's ndcg@1: 0.880835\tvalid_0's ndcg@2: 0.910171\tvalid_0's ndcg@3: 0.924387\tvalid_0's ndcg@4: 0.931681\tvalid_0's ndcg@5: 0.93606\n",
      "[28]\tvalid_0's ndcg@1: 0.880965\tvalid_0's ndcg@2: 0.910292\tvalid_0's ndcg@3: 0.924437\tvalid_0's ndcg@4: 0.93178\tvalid_0's ndcg@5: 0.936119\n",
      "[29]\tvalid_0's ndcg@1: 0.881053\tvalid_0's ndcg@2: 0.910272\tvalid_0's ndcg@3: 0.924475\tvalid_0's ndcg@4: 0.931799\tvalid_0's ndcg@5: 0.936111\n",
      "[30]\tvalid_0's ndcg@1: 0.881219\tvalid_0's ndcg@2: 0.910586\tvalid_0's ndcg@3: 0.92461\tvalid_0's ndcg@4: 0.931913\tvalid_0's ndcg@5: 0.936285\n",
      "[31]\tvalid_0's ndcg@1: 0.881327\tvalid_0's ndcg@2: 0.910549\tvalid_0's ndcg@3: 0.924614\tvalid_0's ndcg@4: 0.931997\tvalid_0's ndcg@5: 0.936301\n",
      "[32]\tvalid_0's ndcg@1: 0.881415\tvalid_0's ndcg@2: 0.910646\tvalid_0's ndcg@3: 0.92467\tvalid_0's ndcg@4: 0.931988\tvalid_0's ndcg@5: 0.936321\n",
      "[33]\tvalid_0's ndcg@1: 0.881348\tvalid_0's ndcg@2: 0.910702\tvalid_0's ndcg@3: 0.924736\tvalid_0's ndcg@4: 0.931999\tvalid_0's ndcg@5: 0.936349\n",
      "[34]\tvalid_0's ndcg@1: 0.881322\tvalid_0's ndcg@2: 0.91068\tvalid_0's ndcg@3: 0.924725\tvalid_0's ndcg@4: 0.932049\tvalid_0's ndcg@5: 0.936369\n",
      "[35]\tvalid_0's ndcg@1: 0.881364\tvalid_0's ndcg@2: 0.910716\tvalid_0's ndcg@3: 0.924802\tvalid_0's ndcg@4: 0.93204\tvalid_0's ndcg@5: 0.93641\n",
      "[36]\tvalid_0's ndcg@1: 0.881395\tvalid_0's ndcg@2: 0.910753\tvalid_0's ndcg@3: 0.924799\tvalid_0's ndcg@4: 0.932096\tvalid_0's ndcg@5: 0.93639\n",
      "[37]\tvalid_0's ndcg@1: 0.88172\tvalid_0's ndcg@2: 0.910932\tvalid_0's ndcg@3: 0.925025\tvalid_0's ndcg@4: 0.932275\tvalid_0's ndcg@5: 0.936547\n",
      "[38]\tvalid_0's ndcg@1: 0.881648\tvalid_0's ndcg@2: 0.910915\tvalid_0's ndcg@3: 0.924943\tvalid_0's ndcg@4: 0.932232\tvalid_0's ndcg@5: 0.936589\n",
      "[39]\tvalid_0's ndcg@1: 0.881659\tvalid_0's ndcg@2: 0.910945\tvalid_0's ndcg@3: 0.925018\tvalid_0's ndcg@4: 0.932275\tvalid_0's ndcg@5: 0.936582\n",
      "[40]\tvalid_0's ndcg@1: 0.881742\tvalid_0's ndcg@2: 0.911046\tvalid_0's ndcg@3: 0.925069\tvalid_0's ndcg@4: 0.932317\tvalid_0's ndcg@5: 0.936618\n",
      "[41]\tvalid_0's ndcg@1: 0.881716\tvalid_0's ndcg@2: 0.911027\tvalid_0's ndcg@3: 0.925068\tvalid_0's ndcg@4: 0.9323\tvalid_0's ndcg@5: 0.936626\n",
      "[42]\tvalid_0's ndcg@1: 0.881783\tvalid_0's ndcg@2: 0.911125\tvalid_0's ndcg@3: 0.925113\tvalid_0's ndcg@4: 0.932352\tvalid_0's ndcg@5: 0.936693\n",
      "[43]\tvalid_0's ndcg@1: 0.881747\tvalid_0's ndcg@2: 0.91103\tvalid_0's ndcg@3: 0.925069\tvalid_0's ndcg@4: 0.93229\tvalid_0's ndcg@5: 0.936656\n",
      "[44]\tvalid_0's ndcg@1: 0.881617\tvalid_0's ndcg@2: 0.910967\tvalid_0's ndcg@3: 0.925001\tvalid_0's ndcg@4: 0.932272\tvalid_0's ndcg@5: 0.936602\n",
      "[45]\tvalid_0's ndcg@1: 0.881731\tvalid_0's ndcg@2: 0.911101\tvalid_0's ndcg@3: 0.925123\tvalid_0's ndcg@4: 0.932367\tvalid_0's ndcg@5: 0.936677\n",
      "[46]\tvalid_0's ndcg@1: 0.881659\tvalid_0's ndcg@2: 0.911105\tvalid_0's ndcg@3: 0.925115\tvalid_0's ndcg@4: 0.932354\tvalid_0's ndcg@5: 0.936616\n",
      "[47]\tvalid_0's ndcg@1: 0.881659\tvalid_0's ndcg@2: 0.911093\tvalid_0's ndcg@3: 0.925059\tvalid_0's ndcg@4: 0.93235\tvalid_0's ndcg@5: 0.936626\n",
      "[48]\tvalid_0's ndcg@1: 0.881674\tvalid_0's ndcg@2: 0.911111\tvalid_0's ndcg@3: 0.925092\tvalid_0's ndcg@4: 0.932406\tvalid_0's ndcg@5: 0.936644\n",
      "[49]\tvalid_0's ndcg@1: 0.881571\tvalid_0's ndcg@2: 0.911113\tvalid_0's ndcg@3: 0.92509\tvalid_0's ndcg@4: 0.932391\tvalid_0's ndcg@5: 0.936607\n",
      "[50]\tvalid_0's ndcg@1: 0.881535\tvalid_0's ndcg@2: 0.911051\tvalid_0's ndcg@3: 0.925079\tvalid_0's ndcg@4: 0.932351\tvalid_0's ndcg@5: 0.936618\n",
      "[51]\tvalid_0's ndcg@1: 0.881566\tvalid_0's ndcg@2: 0.911071\tvalid_0's ndcg@3: 0.925143\tvalid_0's ndcg@4: 0.932393\tvalid_0's ndcg@5: 0.936653\n",
      "[52]\tvalid_0's ndcg@1: 0.88183\tvalid_0's ndcg@2: 0.911309\tvalid_0's ndcg@3: 0.925295\tvalid_0's ndcg@4: 0.932532\tvalid_0's ndcg@5: 0.936801\n",
      "[53]\tvalid_0's ndcg@1: 0.881685\tvalid_0's ndcg@2: 0.911266\tvalid_0's ndcg@3: 0.9252\tvalid_0's ndcg@4: 0.932457\tvalid_0's ndcg@5: 0.936726\n",
      "[54]\tvalid_0's ndcg@1: 0.881814\tvalid_0's ndcg@2: 0.911281\tvalid_0's ndcg@3: 0.925315\tvalid_0's ndcg@4: 0.932536\tvalid_0's ndcg@5: 0.936754\n",
      "[55]\tvalid_0's ndcg@1: 0.881814\tvalid_0's ndcg@2: 0.911321\tvalid_0's ndcg@3: 0.925345\tvalid_0's ndcg@4: 0.932559\tvalid_0's ndcg@5: 0.936761\n",
      "[56]\tvalid_0's ndcg@1: 0.881835\tvalid_0's ndcg@2: 0.91131\tvalid_0's ndcg@3: 0.925331\tvalid_0's ndcg@4: 0.932547\tvalid_0's ndcg@5: 0.936756\n",
      "[57]\tvalid_0's ndcg@1: 0.881773\tvalid_0's ndcg@2: 0.911289\tvalid_0's ndcg@3: 0.925346\tvalid_0's ndcg@4: 0.932551\tvalid_0's ndcg@5: 0.936765\n",
      "[58]\tvalid_0's ndcg@1: 0.881602\tvalid_0's ndcg@2: 0.911223\tvalid_0's ndcg@3: 0.925253\tvalid_0's ndcg@4: 0.932469\tvalid_0's ndcg@5: 0.936696\n",
      "[59]\tvalid_0's ndcg@1: 0.881612\tvalid_0's ndcg@2: 0.911216\tvalid_0's ndcg@3: 0.925293\tvalid_0's ndcg@4: 0.932473\tvalid_0's ndcg@5: 0.936709\n",
      "[60]\tvalid_0's ndcg@1: 0.881664\tvalid_0's ndcg@2: 0.911261\tvalid_0's ndcg@3: 0.925318\tvalid_0's ndcg@4: 0.932494\tvalid_0's ndcg@5: 0.93672\n",
      "[61]\tvalid_0's ndcg@1: 0.881545\tvalid_0's ndcg@2: 0.911159\tvalid_0's ndcg@3: 0.925256\tvalid_0's ndcg@4: 0.932426\tvalid_0's ndcg@5: 0.936649\n",
      "[62]\tvalid_0's ndcg@1: 0.88155\tvalid_0's ndcg@2: 0.911152\tvalid_0's ndcg@3: 0.92529\tvalid_0's ndcg@4: 0.932475\tvalid_0's ndcg@5: 0.93669\n",
      "[63]\tvalid_0's ndcg@1: 0.881514\tvalid_0's ndcg@2: 0.911227\tvalid_0's ndcg@3: 0.925275\tvalid_0's ndcg@4: 0.932523\tvalid_0's ndcg@5: 0.936702\n",
      "[64]\tvalid_0's ndcg@1: 0.8817\tvalid_0's ndcg@2: 0.911328\tvalid_0's ndcg@3: 0.925366\tvalid_0's ndcg@4: 0.932568\tvalid_0's ndcg@5: 0.936768\n",
      "[65]\tvalid_0's ndcg@1: 0.881731\tvalid_0's ndcg@2: 0.911346\tvalid_0's ndcg@3: 0.925407\tvalid_0's ndcg@4: 0.932575\tvalid_0's ndcg@5: 0.936786\n",
      "[66]\tvalid_0's ndcg@1: 0.881731\tvalid_0's ndcg@2: 0.911345\tvalid_0's ndcg@3: 0.925383\tvalid_0's ndcg@4: 0.932604\tvalid_0's ndcg@5: 0.93678\n",
      "[67]\tvalid_0's ndcg@1: 0.881887\tvalid_0's ndcg@2: 0.911458\tvalid_0's ndcg@3: 0.925391\tvalid_0's ndcg@4: 0.932647\tvalid_0's ndcg@5: 0.936842\n",
      "[68]\tvalid_0's ndcg@1: 0.881788\tvalid_0's ndcg@2: 0.911378\tvalid_0's ndcg@3: 0.925357\tvalid_0's ndcg@4: 0.932641\tvalid_0's ndcg@5: 0.93682\n",
      "[69]\tvalid_0's ndcg@1: 0.881824\tvalid_0's ndcg@2: 0.911423\tvalid_0's ndcg@3: 0.925379\tvalid_0's ndcg@4: 0.932633\tvalid_0's ndcg@5: 0.936854\n",
      "[70]\tvalid_0's ndcg@1: 0.881783\tvalid_0's ndcg@2: 0.911373\tvalid_0's ndcg@3: 0.925326\tvalid_0's ndcg@4: 0.932624\tvalid_0's ndcg@5: 0.93681\n",
      "[71]\tvalid_0's ndcg@1: 0.88186\tvalid_0's ndcg@2: 0.911476\tvalid_0's ndcg@3: 0.925441\tvalid_0's ndcg@4: 0.932709\tvalid_0's ndcg@5: 0.93689\n",
      "[72]\tvalid_0's ndcg@1: 0.882042\tvalid_0's ndcg@2: 0.911576\tvalid_0's ndcg@3: 0.92552\tvalid_0's ndcg@4: 0.93278\tvalid_0's ndcg@5: 0.936956\n",
      "[73]\tvalid_0's ndcg@1: 0.882042\tvalid_0's ndcg@2: 0.911501\tvalid_0's ndcg@3: 0.925466\tvalid_0's ndcg@4: 0.932782\tvalid_0's ndcg@5: 0.936946\n",
      "[74]\tvalid_0's ndcg@1: 0.882026\tvalid_0's ndcg@2: 0.911482\tvalid_0's ndcg@3: 0.925501\tvalid_0's ndcg@4: 0.932759\tvalid_0's ndcg@5: 0.936929\n",
      "[75]\tvalid_0's ndcg@1: 0.881949\tvalid_0's ndcg@2: 0.911488\tvalid_0's ndcg@3: 0.925504\tvalid_0's ndcg@4: 0.932747\tvalid_0's ndcg@5: 0.936933\n",
      "[76]\tvalid_0's ndcg@1: 0.881902\tvalid_0's ndcg@2: 0.911538\tvalid_0's ndcg@3: 0.925479\tvalid_0's ndcg@4: 0.932742\tvalid_0's ndcg@5: 0.936913\n",
      "[77]\tvalid_0's ndcg@1: 0.881959\tvalid_0's ndcg@2: 0.911544\tvalid_0's ndcg@3: 0.925495\tvalid_0's ndcg@4: 0.932766\tvalid_0's ndcg@5: 0.936938\n",
      "[78]\tvalid_0's ndcg@1: 0.882037\tvalid_0's ndcg@2: 0.911625\tvalid_0's ndcg@3: 0.92553\tvalid_0's ndcg@4: 0.932808\tvalid_0's ndcg@5: 0.936994\n",
      "[79]\tvalid_0's ndcg@1: 0.882161\tvalid_0's ndcg@2: 0.911576\tvalid_0's ndcg@3: 0.925597\tvalid_0's ndcg@4: 0.932853\tvalid_0's ndcg@5: 0.937027\n",
      "[80]\tvalid_0's ndcg@1: 0.882109\tvalid_0's ndcg@2: 0.911597\tvalid_0's ndcg@3: 0.92558\tvalid_0's ndcg@4: 0.932825\tvalid_0's ndcg@5: 0.937013\n",
      "[81]\tvalid_0's ndcg@1: 0.882073\tvalid_0's ndcg@2: 0.911599\tvalid_0's ndcg@3: 0.925553\tvalid_0's ndcg@4: 0.932815\tvalid_0's ndcg@5: 0.937005\n",
      "[82]\tvalid_0's ndcg@1: 0.882156\tvalid_0's ndcg@2: 0.911592\tvalid_0's ndcg@3: 0.9256\tvalid_0's ndcg@4: 0.932836\tvalid_0's ndcg@5: 0.937033\n",
      "[83]\tvalid_0's ndcg@1: 0.882161\tvalid_0's ndcg@2: 0.911618\tvalid_0's ndcg@3: 0.925561\tvalid_0's ndcg@4: 0.932801\tvalid_0's ndcg@5: 0.937031\n",
      "[84]\tvalid_0's ndcg@1: 0.882089\tvalid_0's ndcg@2: 0.91163\tvalid_0's ndcg@3: 0.925537\tvalid_0's ndcg@4: 0.932773\tvalid_0's ndcg@5: 0.937016\n",
      "[85]\tvalid_0's ndcg@1: 0.882084\tvalid_0's ndcg@2: 0.911655\tvalid_0's ndcg@3: 0.92554\tvalid_0's ndcg@4: 0.93278\tvalid_0's ndcg@5: 0.937013\n",
      "[86]\tvalid_0's ndcg@1: 0.882197\tvalid_0's ndcg@2: 0.911775\tvalid_0's ndcg@3: 0.925657\tvalid_0's ndcg@4: 0.93287\tvalid_0's ndcg@5: 0.937069\n",
      "[87]\tvalid_0's ndcg@1: 0.882208\tvalid_0's ndcg@2: 0.911687\tvalid_0's ndcg@3: 0.925617\tvalid_0's ndcg@4: 0.932842\tvalid_0's ndcg@5: 0.937041\n",
      "[88]\tvalid_0's ndcg@1: 0.882146\tvalid_0's ndcg@2: 0.911672\tvalid_0's ndcg@3: 0.925575\tvalid_0's ndcg@4: 0.932805\tvalid_0's ndcg@5: 0.937009\n",
      "[89]\tvalid_0's ndcg@1: 0.882213\tvalid_0's ndcg@2: 0.911725\tvalid_0's ndcg@3: 0.925648\tvalid_0's ndcg@4: 0.932847\tvalid_0's ndcg@5: 0.937053\n",
      "[90]\tvalid_0's ndcg@1: 0.882156\tvalid_0's ndcg@2: 0.911683\tvalid_0's ndcg@3: 0.925629\tvalid_0's ndcg@4: 0.932823\tvalid_0's ndcg@5: 0.937031\n",
      "[91]\tvalid_0's ndcg@1: 0.88212\tvalid_0's ndcg@2: 0.911665\tvalid_0's ndcg@3: 0.925584\tvalid_0's ndcg@4: 0.932819\tvalid_0's ndcg@5: 0.937015\n",
      "[92]\tvalid_0's ndcg@1: 0.882089\tvalid_0's ndcg@2: 0.911612\tvalid_0's ndcg@3: 0.925622\tvalid_0's ndcg@4: 0.932766\tvalid_0's ndcg@5: 0.937009\n",
      "[93]\tvalid_0's ndcg@1: 0.882094\tvalid_0's ndcg@2: 0.911622\tvalid_0's ndcg@3: 0.925609\tvalid_0's ndcg@4: 0.932772\tvalid_0's ndcg@5: 0.936991\n",
      "[94]\tvalid_0's ndcg@1: 0.882068\tvalid_0's ndcg@2: 0.911609\tvalid_0's ndcg@3: 0.925611\tvalid_0's ndcg@4: 0.932783\tvalid_0's ndcg@5: 0.936973\n",
      "[95]\tvalid_0's ndcg@1: 0.882068\tvalid_0's ndcg@2: 0.911615\tvalid_0's ndcg@3: 0.925627\tvalid_0's ndcg@4: 0.932809\tvalid_0's ndcg@5: 0.936977\n",
      "[96]\tvalid_0's ndcg@1: 0.882115\tvalid_0's ndcg@2: 0.911583\tvalid_0's ndcg@3: 0.925634\tvalid_0's ndcg@4: 0.932804\tvalid_0's ndcg@5: 0.936988\n",
      "[97]\tvalid_0's ndcg@1: 0.882203\tvalid_0's ndcg@2: 0.911724\tvalid_0's ndcg@3: 0.925721\tvalid_0's ndcg@4: 0.932896\tvalid_0's ndcg@5: 0.93711\n",
      "[98]\tvalid_0's ndcg@1: 0.882172\tvalid_0's ndcg@2: 0.911695\tvalid_0's ndcg@3: 0.925689\tvalid_0's ndcg@4: 0.932868\tvalid_0's ndcg@5: 0.937094\n",
      "[99]\tvalid_0's ndcg@1: 0.882089\tvalid_0's ndcg@2: 0.9117\tvalid_0's ndcg@3: 0.925655\tvalid_0's ndcg@4: 0.932848\tvalid_0's ndcg@5: 0.937072\n",
      "[100]\tvalid_0's ndcg@1: 0.882094\tvalid_0's ndcg@2: 0.911707\tvalid_0's ndcg@3: 0.925679\tvalid_0's ndcg@4: 0.932872\tvalid_0's ndcg@5: 0.937051\n"
     ]
    },
    {
     "data": {
      "text/html": [
       "<style>#sk-container-id-1 {color: black;background-color: white;}#sk-container-id-1 pre{padding: 0;}#sk-container-id-1 div.sk-toggleable {background-color: white;}#sk-container-id-1 label.sk-toggleable__label {cursor: pointer;display: block;width: 100%;margin-bottom: 0;padding: 0.3em;box-sizing: border-box;text-align: center;}#sk-container-id-1 label.sk-toggleable__label-arrow:before {content: \"▸\";float: left;margin-right: 0.25em;color: #696969;}#sk-container-id-1 label.sk-toggleable__label-arrow:hover:before {color: black;}#sk-container-id-1 div.sk-estimator:hover label.sk-toggleable__label-arrow:before {color: black;}#sk-container-id-1 div.sk-toggleable__content {max-height: 0;max-width: 0;overflow: hidden;text-align: left;background-color: #f0f8ff;}#sk-container-id-1 div.sk-toggleable__content pre {margin: 0.2em;color: black;border-radius: 0.25em;background-color: #f0f8ff;}#sk-container-id-1 input.sk-toggleable__control:checked~div.sk-toggleable__content {max-height: 200px;max-width: 100%;overflow: auto;}#sk-container-id-1 input.sk-toggleable__control:checked~label.sk-toggleable__label-arrow:before {content: \"▾\";}#sk-container-id-1 div.sk-estimator input.sk-toggleable__control:checked~label.sk-toggleable__label {background-color: #d4ebff;}#sk-container-id-1 div.sk-label input.sk-toggleable__control:checked~label.sk-toggleable__label {background-color: #d4ebff;}#sk-container-id-1 input.sk-hidden--visually {border: 0;clip: rect(1px 1px 1px 1px);clip: rect(1px, 1px, 1px, 1px);height: 1px;margin: -1px;overflow: hidden;padding: 0;position: absolute;width: 1px;}#sk-container-id-1 div.sk-estimator {font-family: monospace;background-color: #f0f8ff;border: 1px dotted black;border-radius: 0.25em;box-sizing: border-box;margin-bottom: 0.5em;}#sk-container-id-1 div.sk-estimator:hover {background-color: #d4ebff;}#sk-container-id-1 div.sk-parallel-item::after {content: \"\";width: 100%;border-bottom: 1px solid gray;flex-grow: 1;}#sk-container-id-1 div.sk-label:hover label.sk-toggleable__label {background-color: #d4ebff;}#sk-container-id-1 div.sk-serial::before {content: \"\";position: absolute;border-left: 1px solid gray;box-sizing: border-box;top: 0;bottom: 0;left: 50%;z-index: 0;}#sk-container-id-1 div.sk-serial {display: flex;flex-direction: column;align-items: center;background-color: white;padding-right: 0.2em;padding-left: 0.2em;position: relative;}#sk-container-id-1 div.sk-item {position: relative;z-index: 1;}#sk-container-id-1 div.sk-parallel {display: flex;align-items: stretch;justify-content: center;background-color: white;position: relative;}#sk-container-id-1 div.sk-item::before, #sk-container-id-1 div.sk-parallel-item::before {content: \"\";position: absolute;border-left: 1px solid gray;box-sizing: border-box;top: 0;bottom: 0;left: 50%;z-index: -1;}#sk-container-id-1 div.sk-parallel-item {display: flex;flex-direction: column;z-index: 1;position: relative;background-color: white;}#sk-container-id-1 div.sk-parallel-item:first-child::after {align-self: flex-end;width: 50%;}#sk-container-id-1 div.sk-parallel-item:last-child::after {align-self: flex-start;width: 50%;}#sk-container-id-1 div.sk-parallel-item:only-child::after {width: 0;}#sk-container-id-1 div.sk-dashed-wrapped {border: 1px dashed gray;margin: 0 0.4em 0.5em 0.4em;box-sizing: border-box;padding-bottom: 0.4em;background-color: white;}#sk-container-id-1 div.sk-label label {font-family: monospace;font-weight: bold;display: inline-block;line-height: 1.2em;}#sk-container-id-1 div.sk-label-container {text-align: center;}#sk-container-id-1 div.sk-container {/* jupyter's `normalize.less` sets `[hidden] { display: none; }` but bootstrap.min.css set `[hidden] { display: none !important; }` so we also need the `!important` here to be able to override the default hidden behavior on the sphinx rendered scikit-learn.org. See: https://github.com/scikit-learn/scikit-learn/issues/21755 */display: inline-block !important;position: relative;}#sk-container-id-1 div.sk-text-repr-fallback {display: none;}</style><div id=\"sk-container-id-1\" class=\"sk-top-container\"><div class=\"sk-text-repr-fallback\"><pre>LGBMRanker(boosting_type=&#x27;dart&#x27;, early_stopping_rounds=10, feature_fraction=0.8,\n",
       "           is_unbalance=True, learning_rate=0.15, max_depth=15, metric=&#x27;ndcg&#x27;,\n",
       "           num_iterations=100, num_leaves=25, objective=&#x27;lambdarank&#x27;,\n",
       "           subsample=0.2)</pre><b>In a Jupyter environment, please rerun this cell to show the HTML representation or trust the notebook. <br />On GitHub, the HTML representation is unable to render, please try loading this page with nbviewer.org.</b></div><div class=\"sk-container\" hidden><div class=\"sk-item\"><div class=\"sk-estimator sk-toggleable\"><input class=\"sk-toggleable__control sk-hidden--visually\" id=\"sk-estimator-id-1\" type=\"checkbox\" checked><label for=\"sk-estimator-id-1\" class=\"sk-toggleable__label sk-toggleable__label-arrow\">LGBMRanker</label><div class=\"sk-toggleable__content\"><pre>LGBMRanker(boosting_type=&#x27;dart&#x27;, early_stopping_rounds=10, feature_fraction=0.8,\n",
       "           is_unbalance=True, learning_rate=0.15, max_depth=15, metric=&#x27;ndcg&#x27;,\n",
       "           num_iterations=100, num_leaves=25, objective=&#x27;lambdarank&#x27;,\n",
       "           subsample=0.2)</pre></div></div></div></div></div>"
      ],
      "text/plain": [
       "LGBMRanker(boosting_type='dart', early_stopping_rounds=10, feature_fraction=0.8,\n",
       "           is_unbalance=True, learning_rate=0.15, max_depth=15, metric='ndcg',\n",
       "           num_iterations=100, num_leaves=25, objective='lambdarank',\n",
       "           subsample=0.2)"
      ]
     },
     "execution_count": 24,
     "metadata": {},
     "output_type": "execute_result"
    }
   ],
   "source": [
    "gbm.fit(X_train, \n",
    "        y_train, \n",
    "        group=qids_train,\n",
    "        eval_set=[(X_val, y_val)], \n",
    "        eval_group=[qids_val],\n",
    "        eval_at=[1,2,3,4,5]\n",
    ")"
   ]
  },
  {
   "cell_type": "code",
   "execution_count": null,
   "metadata": {},
   "outputs": [
    {
     "name": "stdout",
     "output_type": "stream",
     "text": [
      "[-0.05524941 -0.7664129  -0.32036877 ...  0.20299522  0.17254942\n",
      " -0.09111858]\n"
     ]
    }
   ],
   "source": [
    "test_pred = gbm.predict(X_val)\n",
    "\n",
    "print(test_pred)"
   ]
  },
  {
   "cell_type": "code",
   "execution_count": null,
   "metadata": {},
   "outputs": [],
   "source": [
    "X_val[\"predicted_ranking\"] = test_pred"
   ]
  },
  {
   "cell_type": "code",
   "execution_count": null,
   "metadata": {},
   "outputs": [
    {
     "name": "stdout",
     "output_type": "stream",
     "text": [
      "--> NDCG :  0.7861882083830752\n"
     ]
    }
   ],
   "source": [
    "print(\"--> NDCG : \", ndcg_score([y_val],[X_val[\"predicted_ranking\"]]))"
   ]
  },
  {
   "cell_type": "code",
   "execution_count": null,
   "metadata": {},
   "outputs": [
    {
     "data": {
      "text/plain": [
       "1095"
      ]
     },
     "execution_count": 31,
     "metadata": {},
     "output_type": "execute_result"
    }
   ],
   "source": [
    "del training_data, aux_training\n",
    "gc.collect()"
   ]
  },
  {
   "cell_type": "code",
   "execution_count": null,
   "metadata": {},
   "outputs": [],
   "source": [
    "#Feature eng for test data\n",
    "z = test_data['prop_id'].value_counts() \n",
    "z1 = z.to_dict() #converts to dictionary\n",
    "test_data['Count_Column'] = test_data['prop_id'].map(z1)\n",
    "\n",
    "#Create one location score column\n",
    "test_data['location_score'] = ((test_data['prop_location_score1'] + test__data['prop_location_score2']) / 2)"
   ]
  },
  {
   "cell_type": "code",
   "execution_count": null,
   "metadata": {},
   "outputs": [],
   "source": [
    "test_data = test_data.drop(['date_time'], axis=1)\n",
    "test_data = test_data.drop(['prop_location_score1', axis=1])\n",
    "test_data = test_data.drop(['prop_location_score2', axis=1])"
   ]
  },
  {
   "cell_type": "code",
   "execution_count": null,
   "metadata": {},
   "outputs": [],
   "source": [
    "test_data = replace_nan_with_mean(test_data,[\"visitor_hist_starrating\",\"visitor_hist_adr_usd\"])\n",
    "test_data = replace_nan_with_median(test_data,[\"orig_destination_distance\"])\n",
    "\n",
    "col_min = test_data[\"srch_query_affinity_score\"].min() # minimum of col\n",
    "test_data = replace_nan_with_value(test_data,'srch_query_affinity_score',col_min)\n",
    "\n",
    "col_min = test_data[\"prop_starrating\"].min() # minimum of col\n",
    "test_data = replace_nan_with_value(test_data,'prop_starrating',col_min)\n",
    "\n",
    "col_min = test_data[\"prop_review_score\"].min() # minimum of col\n",
    "test_data = replace_nan_with_value(test_data,'prop_review_score',col_min)\n",
    "\n",
    "col_min = test_data[\"location_score\"].min() # minimum of col\n",
    "test_data = replace_nan_with_value(test_data,'location_score',col_min)"
   ]
  },
  {
   "cell_type": "code",
   "execution_count": null,
   "metadata": {},
   "outputs": [
    {
     "data": {
      "text/plain": [
       "5605"
      ]
     },
     "execution_count": 42,
     "metadata": {},
     "output_type": "execute_result"
    }
   ],
   "source": [
    "gc.collect()"
   ]
  },
  {
   "cell_type": "code",
   "execution_count": null,
   "metadata": {},
   "outputs": [
    {
     "ename": "MemoryError",
     "evalue": "Unable to allocate 1.18 GiB for an array with shape (32, 4959183) and data type float64",
     "output_type": "error",
     "traceback": [
      "\u001b[1;31m---------------------------------------------------------------------------\u001b[0m",
      "\u001b[1;31mMemoryError\u001b[0m                               Traceback (most recent call last)",
      "\u001b[1;32mc:\\Users\\alexi\\OneDrive\\Documents\\GitHub\\dmt_assignment2\\new_model_A.ipynb Cell 33\u001b[0m in \u001b[0;36m1\n\u001b[1;32m----> <a href='vscode-notebook-cell:/c%3A/Users/alexi/OneDrive/Documents/GitHub/dmt_assignment2/new_model_A.ipynb#X46sZmlsZQ%3D%3D?line=0'>1</a>\u001b[0m test_pred \u001b[39m=\u001b[39m gbm\u001b[39m.\u001b[39;49mpredict(test_data)\n",
      "File \u001b[1;32m~\\AppData\\Local\\Packages\\PythonSoftwareFoundation.Python.3.10_qbz5n2kfra8p0\\LocalCache\\local-packages\\Python310\\site-packages\\lightgbm\\sklearn.py:803\u001b[0m, in \u001b[0;36mLGBMModel.predict\u001b[1;34m(self, X, raw_score, start_iteration, num_iteration, pred_leaf, pred_contrib, **kwargs)\u001b[0m\n\u001b[0;32m    799\u001b[0m \u001b[39mif\u001b[39;00m \u001b[39mself\u001b[39m\u001b[39m.\u001b[39m_n_features \u001b[39m!=\u001b[39m n_features:\n\u001b[0;32m    800\u001b[0m     \u001b[39mraise\u001b[39;00m \u001b[39mValueError\u001b[39;00m(\u001b[39m\"\u001b[39m\u001b[39mNumber of features of the model must \u001b[39m\u001b[39m\"\u001b[39m\n\u001b[0;32m    801\u001b[0m                      \u001b[39mf\u001b[39m\u001b[39m\"\u001b[39m\u001b[39mmatch the input. Model n_features_ is \u001b[39m\u001b[39m{\u001b[39;00m\u001b[39mself\u001b[39m\u001b[39m.\u001b[39m_n_features\u001b[39m}\u001b[39;00m\u001b[39m and \u001b[39m\u001b[39m\"\u001b[39m\n\u001b[0;32m    802\u001b[0m                      \u001b[39mf\u001b[39m\u001b[39m\"\u001b[39m\u001b[39minput n_features is \u001b[39m\u001b[39m{\u001b[39;00mn_features\u001b[39m}\u001b[39;00m\u001b[39m\"\u001b[39m)\n\u001b[1;32m--> 803\u001b[0m \u001b[39mreturn\u001b[39;00m \u001b[39mself\u001b[39m\u001b[39m.\u001b[39m_Booster\u001b[39m.\u001b[39mpredict(X, raw_score\u001b[39m=\u001b[39mraw_score, start_iteration\u001b[39m=\u001b[39mstart_iteration, num_iteration\u001b[39m=\u001b[39mnum_iteration,\n\u001b[0;32m    804\u001b[0m                              pred_leaf\u001b[39m=\u001b[39mpred_leaf, pred_contrib\u001b[39m=\u001b[39mpred_contrib, \u001b[39m*\u001b[39m\u001b[39m*\u001b[39mkwargs)\n",
      "File \u001b[1;32m~\\AppData\\Local\\Packages\\PythonSoftwareFoundation.Python.3.10_qbz5n2kfra8p0\\LocalCache\\local-packages\\Python310\\site-packages\\lightgbm\\basic.py:3538\u001b[0m, in \u001b[0;36mBooster.predict\u001b[1;34m(self, data, start_iteration, num_iteration, raw_score, pred_leaf, pred_contrib, data_has_header, is_reshape, **kwargs)\u001b[0m\n\u001b[0;32m   3536\u001b[0m     \u001b[39melse\u001b[39;00m:\n\u001b[0;32m   3537\u001b[0m         num_iteration \u001b[39m=\u001b[39m \u001b[39m-\u001b[39m\u001b[39m1\u001b[39m\n\u001b[1;32m-> 3538\u001b[0m \u001b[39mreturn\u001b[39;00m predictor\u001b[39m.\u001b[39;49mpredict(data, start_iteration, num_iteration,\n\u001b[0;32m   3539\u001b[0m                          raw_score, pred_leaf, pred_contrib,\n\u001b[0;32m   3540\u001b[0m                          data_has_header, is_reshape)\n",
      "File \u001b[1;32m~\\AppData\\Local\\Packages\\PythonSoftwareFoundation.Python.3.10_qbz5n2kfra8p0\\LocalCache\\local-packages\\Python310\\site-packages\\lightgbm\\basic.py:820\u001b[0m, in \u001b[0;36m_InnerPredictor.predict\u001b[1;34m(self, data, start_iteration, num_iteration, raw_score, pred_leaf, pred_contrib, data_has_header, is_reshape)\u001b[0m\n\u001b[0;32m    818\u001b[0m \u001b[39mif\u001b[39;00m \u001b[39misinstance\u001b[39m(data, Dataset):\n\u001b[0;32m    819\u001b[0m     \u001b[39mraise\u001b[39;00m \u001b[39mTypeError\u001b[39;00m(\u001b[39m\"\u001b[39m\u001b[39mCannot use Dataset instance for prediction, please use raw data instead\u001b[39m\u001b[39m\"\u001b[39m)\n\u001b[1;32m--> 820\u001b[0m data \u001b[39m=\u001b[39m _data_from_pandas(data, \u001b[39mNone\u001b[39;49;00m, \u001b[39mNone\u001b[39;49;00m, \u001b[39mself\u001b[39;49m\u001b[39m.\u001b[39;49mpandas_categorical)[\u001b[39m0\u001b[39m]\n\u001b[0;32m    821\u001b[0m predict_type \u001b[39m=\u001b[39m C_API_PREDICT_NORMAL\n\u001b[0;32m    822\u001b[0m \u001b[39mif\u001b[39;00m raw_score:\n",
      "File \u001b[1;32m~\\AppData\\Local\\Packages\\PythonSoftwareFoundation.Python.3.10_qbz5n2kfra8p0\\LocalCache\\local-packages\\Python310\\site-packages\\lightgbm\\basic.py:568\u001b[0m, in \u001b[0;36m_data_from_pandas\u001b[1;34m(data, feature_name, categorical_feature, pandas_categorical)\u001b[0m\n\u001b[0;32m    566\u001b[0m     \u001b[39mraise\u001b[39;00m \u001b[39mValueError\u001b[39;00m(\u001b[39m'\u001b[39m\u001b[39mInput data must be 2 dimensional and non empty.\u001b[39m\u001b[39m'\u001b[39m)\n\u001b[0;32m    567\u001b[0m \u001b[39mif\u001b[39;00m feature_name \u001b[39m==\u001b[39m \u001b[39m'\u001b[39m\u001b[39mauto\u001b[39m\u001b[39m'\u001b[39m \u001b[39mor\u001b[39;00m feature_name \u001b[39mis\u001b[39;00m \u001b[39mNone\u001b[39;00m:\n\u001b[1;32m--> 568\u001b[0m     data \u001b[39m=\u001b[39m data\u001b[39m.\u001b[39;49mrename(columns\u001b[39m=\u001b[39;49m\u001b[39mstr\u001b[39;49m)\n\u001b[0;32m    569\u001b[0m cat_cols \u001b[39m=\u001b[39m \u001b[39mlist\u001b[39m(data\u001b[39m.\u001b[39mselect_dtypes(include\u001b[39m=\u001b[39m[\u001b[39m'\u001b[39m\u001b[39mcategory\u001b[39m\u001b[39m'\u001b[39m])\u001b[39m.\u001b[39mcolumns)\n\u001b[0;32m    570\u001b[0m cat_cols_not_ordered \u001b[39m=\u001b[39m [col \u001b[39mfor\u001b[39;00m col \u001b[39min\u001b[39;00m cat_cols \u001b[39mif\u001b[39;00m \u001b[39mnot\u001b[39;00m data[col]\u001b[39m.\u001b[39mcat\u001b[39m.\u001b[39mordered]\n",
      "File \u001b[1;32m~\\AppData\\Local\\Packages\\PythonSoftwareFoundation.Python.3.10_qbz5n2kfra8p0\\LocalCache\\local-packages\\Python310\\site-packages\\pandas\\core\\frame.py:5570\u001b[0m, in \u001b[0;36mDataFrame.rename\u001b[1;34m(self, mapper, index, columns, axis, copy, inplace, level, errors)\u001b[0m\n\u001b[0;32m   5451\u001b[0m \u001b[39mdef\u001b[39;00m \u001b[39mrename\u001b[39m(\n\u001b[0;32m   5452\u001b[0m     \u001b[39mself\u001b[39m,\n\u001b[0;32m   5453\u001b[0m     mapper: Renamer \u001b[39m|\u001b[39m \u001b[39mNone\u001b[39;00m \u001b[39m=\u001b[39m \u001b[39mNone\u001b[39;00m,\n\u001b[1;32m   (...)\u001b[0m\n\u001b[0;32m   5461\u001b[0m     errors: IgnoreRaise \u001b[39m=\u001b[39m \u001b[39m\"\u001b[39m\u001b[39mignore\u001b[39m\u001b[39m\"\u001b[39m,\n\u001b[0;32m   5462\u001b[0m ) \u001b[39m-\u001b[39m\u001b[39m>\u001b[39m DataFrame \u001b[39m|\u001b[39m \u001b[39mNone\u001b[39;00m:\n\u001b[0;32m   5463\u001b[0m     \u001b[39m\"\"\"\u001b[39;00m\n\u001b[0;32m   5464\u001b[0m \u001b[39m    Alter axes labels.\u001b[39;00m\n\u001b[0;32m   5465\u001b[0m \n\u001b[1;32m   (...)\u001b[0m\n\u001b[0;32m   5568\u001b[0m \u001b[39m    4  3  6\u001b[39;00m\n\u001b[0;32m   5569\u001b[0m \u001b[39m    \"\"\"\u001b[39;00m\n\u001b[1;32m-> 5570\u001b[0m     \u001b[39mreturn\u001b[39;00m \u001b[39msuper\u001b[39;49m()\u001b[39m.\u001b[39;49m_rename(\n\u001b[0;32m   5571\u001b[0m         mapper\u001b[39m=\u001b[39;49mmapper,\n\u001b[0;32m   5572\u001b[0m         index\u001b[39m=\u001b[39;49mindex,\n\u001b[0;32m   5573\u001b[0m         columns\u001b[39m=\u001b[39;49mcolumns,\n\u001b[0;32m   5574\u001b[0m         axis\u001b[39m=\u001b[39;49maxis,\n\u001b[0;32m   5575\u001b[0m         copy\u001b[39m=\u001b[39;49mcopy,\n\u001b[0;32m   5576\u001b[0m         inplace\u001b[39m=\u001b[39;49minplace,\n\u001b[0;32m   5577\u001b[0m         level\u001b[39m=\u001b[39;49mlevel,\n\u001b[0;32m   5578\u001b[0m         errors\u001b[39m=\u001b[39;49merrors,\n\u001b[0;32m   5579\u001b[0m     )\n",
      "File \u001b[1;32m~\\AppData\\Local\\Packages\\PythonSoftwareFoundation.Python.3.10_qbz5n2kfra8p0\\LocalCache\\local-packages\\Python310\\site-packages\\pandas\\core\\generic.py:1077\u001b[0m, in \u001b[0;36mNDFrame._rename\u001b[1;34m(self, mapper, index, columns, axis, copy, inplace, level, errors)\u001b[0m\n\u001b[0;32m   1074\u001b[0m         index \u001b[39m=\u001b[39m mapper\n\u001b[0;32m   1076\u001b[0m \u001b[39mself\u001b[39m\u001b[39m.\u001b[39m_check_inplace_and_allows_duplicate_labels(inplace)\n\u001b[1;32m-> 1077\u001b[0m result \u001b[39m=\u001b[39m \u001b[39mself\u001b[39m \u001b[39mif\u001b[39;00m inplace \u001b[39melse\u001b[39;00m \u001b[39mself\u001b[39;49m\u001b[39m.\u001b[39;49mcopy(deep\u001b[39m=\u001b[39;49mcopy)\n\u001b[0;32m   1079\u001b[0m \u001b[39mfor\u001b[39;00m axis_no, replacements \u001b[39min\u001b[39;00m \u001b[39menumerate\u001b[39m((index, columns)):\n\u001b[0;32m   1080\u001b[0m     \u001b[39mif\u001b[39;00m replacements \u001b[39mis\u001b[39;00m \u001b[39mNone\u001b[39;00m:\n",
      "File \u001b[1;32m~\\AppData\\Local\\Packages\\PythonSoftwareFoundation.Python.3.10_qbz5n2kfra8p0\\LocalCache\\local-packages\\Python310\\site-packages\\pandas\\core\\generic.py:6368\u001b[0m, in \u001b[0;36mNDFrame.copy\u001b[1;34m(self, deep)\u001b[0m\n\u001b[0;32m   6258\u001b[0m \u001b[39m@final\u001b[39m\n\u001b[0;32m   6259\u001b[0m \u001b[39mdef\u001b[39;00m \u001b[39mcopy\u001b[39m(\u001b[39mself\u001b[39m: NDFrameT, deep: bool_t \u001b[39m|\u001b[39m \u001b[39mNone\u001b[39;00m \u001b[39m=\u001b[39m \u001b[39mTrue\u001b[39;00m) \u001b[39m-\u001b[39m\u001b[39m>\u001b[39m NDFrameT:\n\u001b[0;32m   6260\u001b[0m     \u001b[39m\"\"\"\u001b[39;00m\n\u001b[0;32m   6261\u001b[0m \u001b[39m    Make a copy of this object's indices and data.\u001b[39;00m\n\u001b[0;32m   6262\u001b[0m \n\u001b[1;32m   (...)\u001b[0m\n\u001b[0;32m   6366\u001b[0m \u001b[39m    dtype: object\u001b[39;00m\n\u001b[0;32m   6367\u001b[0m \u001b[39m    \"\"\"\u001b[39;00m\n\u001b[1;32m-> 6368\u001b[0m     data \u001b[39m=\u001b[39m \u001b[39mself\u001b[39;49m\u001b[39m.\u001b[39;49m_mgr\u001b[39m.\u001b[39;49mcopy(deep\u001b[39m=\u001b[39;49mdeep)\n\u001b[0;32m   6369\u001b[0m     \u001b[39mself\u001b[39m\u001b[39m.\u001b[39m_clear_item_cache()\n\u001b[0;32m   6370\u001b[0m     \u001b[39mreturn\u001b[39;00m \u001b[39mself\u001b[39m\u001b[39m.\u001b[39m_constructor(data)\u001b[39m.\u001b[39m__finalize__(\u001b[39mself\u001b[39m, method\u001b[39m=\u001b[39m\u001b[39m\"\u001b[39m\u001b[39mcopy\u001b[39m\u001b[39m\"\u001b[39m)\n",
      "File \u001b[1;32m~\\AppData\\Local\\Packages\\PythonSoftwareFoundation.Python.3.10_qbz5n2kfra8p0\\LocalCache\\local-packages\\Python310\\site-packages\\pandas\\core\\internals\\managers.py:651\u001b[0m, in \u001b[0;36mBaseBlockManager.copy\u001b[1;34m(self, deep)\u001b[0m\n\u001b[0;32m    648\u001b[0m \u001b[39melse\u001b[39;00m:\n\u001b[0;32m    649\u001b[0m     new_axes \u001b[39m=\u001b[39m \u001b[39mlist\u001b[39m(\u001b[39mself\u001b[39m\u001b[39m.\u001b[39maxes)\n\u001b[1;32m--> 651\u001b[0m res \u001b[39m=\u001b[39m \u001b[39mself\u001b[39;49m\u001b[39m.\u001b[39;49mapply(\u001b[39m\"\u001b[39;49m\u001b[39mcopy\u001b[39;49m\u001b[39m\"\u001b[39;49m, deep\u001b[39m=\u001b[39;49mdeep)\n\u001b[0;32m    652\u001b[0m new_refs: \u001b[39mlist\u001b[39m[weakref\u001b[39m.\u001b[39mref \u001b[39m|\u001b[39m \u001b[39mNone\u001b[39;00m] \u001b[39m|\u001b[39m \u001b[39mNone\u001b[39;00m\n\u001b[0;32m    653\u001b[0m \u001b[39mif\u001b[39;00m deep:\n",
      "File \u001b[1;32m~\\AppData\\Local\\Packages\\PythonSoftwareFoundation.Python.3.10_qbz5n2kfra8p0\\LocalCache\\local-packages\\Python310\\site-packages\\pandas\\core\\internals\\managers.py:352\u001b[0m, in \u001b[0;36mBaseBlockManager.apply\u001b[1;34m(self, f, align_keys, ignore_failures, **kwargs)\u001b[0m\n\u001b[0;32m    350\u001b[0m         applied \u001b[39m=\u001b[39m b\u001b[39m.\u001b[39mapply(f, \u001b[39m*\u001b[39m\u001b[39m*\u001b[39mkwargs)\n\u001b[0;32m    351\u001b[0m     \u001b[39melse\u001b[39;00m:\n\u001b[1;32m--> 352\u001b[0m         applied \u001b[39m=\u001b[39m \u001b[39mgetattr\u001b[39m(b, f)(\u001b[39m*\u001b[39m\u001b[39m*\u001b[39mkwargs)\n\u001b[0;32m    353\u001b[0m \u001b[39mexcept\u001b[39;00m (\u001b[39mTypeError\u001b[39;00m, \u001b[39mNotImplementedError\u001b[39;00m):\n\u001b[0;32m    354\u001b[0m     \u001b[39mif\u001b[39;00m \u001b[39mnot\u001b[39;00m ignore_failures:\n",
      "File \u001b[1;32m~\\AppData\\Local\\Packages\\PythonSoftwareFoundation.Python.3.10_qbz5n2kfra8p0\\LocalCache\\local-packages\\Python310\\site-packages\\pandas\\core\\internals\\blocks.py:549\u001b[0m, in \u001b[0;36mBlock.copy\u001b[1;34m(self, deep)\u001b[0m\n\u001b[0;32m    547\u001b[0m values \u001b[39m=\u001b[39m \u001b[39mself\u001b[39m\u001b[39m.\u001b[39mvalues\n\u001b[0;32m    548\u001b[0m \u001b[39mif\u001b[39;00m deep:\n\u001b[1;32m--> 549\u001b[0m     values \u001b[39m=\u001b[39m values\u001b[39m.\u001b[39;49mcopy()\n\u001b[0;32m    550\u001b[0m \u001b[39mreturn\u001b[39;00m \u001b[39mtype\u001b[39m(\u001b[39mself\u001b[39m)(values, placement\u001b[39m=\u001b[39m\u001b[39mself\u001b[39m\u001b[39m.\u001b[39m_mgr_locs, ndim\u001b[39m=\u001b[39m\u001b[39mself\u001b[39m\u001b[39m.\u001b[39mndim)\n",
      "\u001b[1;31mMemoryError\u001b[0m: Unable to allocate 1.18 GiB for an array with shape (32, 4959183) and data type float64"
     ]
    }
   ],
   "source": [
    "test_pred = gbm.predict(test_data)"
   ]
  }
 ],
 "metadata": {
  "kernelspec": {
   "display_name": "Python 3 (ipykernel)",
   "language": "python",
   "name": "python3"
  },
  "language_info": {
   "codemirror_mode": {
    "name": "ipython",
    "version": 3
   },
   "file_extension": ".py",
   "mimetype": "text/x-python",
   "name": "python",
   "nbconvert_exporter": "python",
   "pygments_lexer": "ipython3",
   "version": "3.9.12"
  }
 },
 "nbformat": 4,
 "nbformat_minor": 2
}
