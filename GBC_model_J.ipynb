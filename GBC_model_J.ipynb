{
 "cells": [
  {
   "cell_type": "code",
   "execution_count": 8,
   "id": "72200316",
   "metadata": {},
   "outputs": [],
   "source": [
    "import pandas as pd\n",
    "import numpy as np\n",
    "import matplotlib.pyplot as plt\n",
    "from sklearn.ensemble import GradientBoostingClassifier\n",
    "from sklearn.model_selection import train_test_split\n",
    "import copy\n",
    "import pickle"
   ]
  },
  {
   "cell_type": "code",
   "execution_count": 2,
   "id": "6e6fe97b",
   "metadata": {},
   "outputs": [
    {
     "data": {
      "text/plain": [
       "(4958347, 54)"
      ]
     },
     "execution_count": 2,
     "metadata": {},
     "output_type": "execute_result"
    }
   ],
   "source": [
    "training_data = pd.read_csv('data/training_set_VU_DM.csv')\n",
    "training_data.shape"
   ]
  },
  {
   "cell_type": "code",
   "execution_count": 3,
   "id": "cc2916d3",
   "metadata": {},
   "outputs": [],
   "source": [
    "training_data['target'] = (5*training_data['booking_bool']) + training_data['click_bool']"
   ]
  },
  {
   "cell_type": "code",
   "execution_count": 7,
   "id": "cf10e9f1",
   "metadata": {},
   "outputs": [],
   "source": [
    "z = training_data['prop_id'].value_counts() \n",
    "dict_z = z.to_dict() # converts to dictionary\n",
    "training_data['counts'] = training_data['prop_id'].map(dict_z) "
   ]
  },
  {
   "cell_type": "code",
   "execution_count": 4,
   "id": "86f9af49",
   "metadata": {},
   "outputs": [
    {
     "data": {
      "text/plain": [
       "(4959183, 50)"
      ]
     },
     "execution_count": 4,
     "metadata": {},
     "output_type": "execute_result"
    }
   ],
   "source": [
    "# test_data = pd.read_csv('data/test_set_VU_DM.csv')\n",
    "# test_data.shape"
   ]
  },
  {
   "cell_type": "code",
   "execution_count": 5,
   "id": "52f77b09",
   "metadata": {},
   "outputs": [
    {
     "data": {
      "text/plain": [
       "(221879, 54)"
      ]
     },
     "execution_count": 5,
     "metadata": {},
     "output_type": "execute_result"
    }
   ],
   "source": [
    "# clicked_data = training_data[training_data['click_bool'] == 1].reset_index(drop=True)\n",
    "# clicked_data.shape"
   ]
  },
  {
   "cell_type": "code",
   "execution_count": 6,
   "id": "f55e8482",
   "metadata": {},
   "outputs": [
    {
     "data": {
      "text/plain": [
       "(138390, 54)"
      ]
     },
     "execution_count": 6,
     "metadata": {},
     "output_type": "execute_result"
    }
   ],
   "source": [
    "# booked_data = training_data[training_data['booking_bool'] == 1].reset_index(drop=True)\n",
    "# booked_data.shape"
   ]
  },
  {
   "cell_type": "code",
   "execution_count": 7,
   "id": "3e966ab9",
   "metadata": {},
   "outputs": [],
   "source": [
    "# model_traindata = booked_data[['srch_id','visitor_location_country_id','prop_country_id','prop_id','prop_location_score1','prop_location_score2','srch_length_of_stay','srch_booking_window']]\n",
    "# model_testdata = test_data[['srch_id','visitor_location_country_id','prop_country_id','prop_id','prop_location_score1','prop_location_score2','srch_length_of_stay','srch_booking_window']]"
   ]
  },
  {
   "cell_type": "code",
   "execution_count": 28,
   "id": "0b6d5052",
   "metadata": {},
   "outputs": [],
   "source": [
    "model_traindata = training_data.copy(deep=True)"
   ]
  },
  {
   "cell_type": "code",
   "execution_count": 35,
   "id": "1fc9e3b2",
   "metadata": {},
   "outputs": [],
   "source": [
    "model_traindata = model_traindata[['srch_id',\n",
    "                                   'site_id',\n",
    "                                   'visitor_location_country_id',\n",
    "                                   'prop_country_id',\n",
    "                                   'prop_starrating',\n",
    "                                   'prop_review_score',\n",
    "                                   'prop_brand_bool',\n",
    "                                   'prop_location_score1',\n",
    "                                   'prop_location_score2',\n",
    "                                   'prop_log_historical_price',\n",
    "                                   'price_usd',\n",
    "                                   'promotion_flag',\n",
    "                                   'srch_destination_id',\n",
    "                                   'srch_length_of_stay',\n",
    "                                   'srch_booking_window',\n",
    "                                   'srch_adults_count',\n",
    "                                   'srch_children_count',\n",
    "                                   'srch_room_count',\n",
    "                                   'srch_saturday_night_bool',\n",
    "                                   'orig_destination_distance',\n",
    "                                   'random_bool',\n",
    "                                   'target',\n",
    "                                   'counts'\n",
    "                                  ]]"
   ]
  },
  {
   "cell_type": "code",
   "execution_count": 36,
   "id": "cb13cc3d",
   "metadata": {},
   "outputs": [
    {
     "data": {
      "text/plain": [
       "srch_id                              0\n",
       "site_id                              0\n",
       "visitor_location_country_id          0\n",
       "prop_country_id                      0\n",
       "prop_starrating                      0\n",
       "prop_review_score                 7364\n",
       "prop_brand_bool                      0\n",
       "prop_location_score1                 0\n",
       "prop_location_score2           1090348\n",
       "prop_log_historical_price            0\n",
       "price_usd                            0\n",
       "promotion_flag                       0\n",
       "srch_destination_id                  0\n",
       "srch_length_of_stay                  0\n",
       "srch_booking_window                  0\n",
       "srch_adults_count                    0\n",
       "srch_children_count                  0\n",
       "srch_room_count                      0\n",
       "srch_saturday_night_bool             0\n",
       "orig_destination_distance      1607782\n",
       "random_bool                          0\n",
       "target                               0\n",
       "counts                               0\n",
       "dtype: int64"
      ]
     },
     "execution_count": 36,
     "metadata": {},
     "output_type": "execute_result"
    }
   ],
   "source": [
    "model_traindata.isna().sum()"
   ]
  },
  {
   "cell_type": "code",
   "execution_count": 41,
   "id": "e5f9b616",
   "metadata": {},
   "outputs": [],
   "source": [
    "model_traindata = model_traindata.dropna().reset_index(drop=True)"
   ]
  },
  {
   "cell_type": "code",
   "execution_count": 42,
   "id": "8735c0c0",
   "metadata": {},
   "outputs": [],
   "source": [
    "features = model_traindata.drop('target', axis=1)\n",
    "targets  = model_traindata['target']"
   ]
  },
  {
   "cell_type": "code",
   "execution_count": 43,
   "id": "ed55bb54",
   "metadata": {},
   "outputs": [],
   "source": [
    "X_train, X_test, y_train, y_test = train_test_split(features, targets, test_size=0.2, random_state=1)"
   ]
  },
  {
   "cell_type": "code",
   "execution_count": 44,
   "id": "c515898e",
   "metadata": {},
   "outputs": [],
   "source": [
    "model = GradientBoostingClassifier().fit(X_train, y_train)"
   ]
  },
  {
   "cell_type": "code",
   "execution_count": 79,
   "id": "e1b11713",
   "metadata": {},
   "outputs": [],
   "source": [
    "y_pred = model.predict(X_test)"
   ]
  },
  {
   "cell_type": "code",
   "execution_count": 80,
   "id": "b70a5da5",
   "metadata": {},
   "outputs": [],
   "source": [
    "indices = list(X_test.index)"
   ]
  },
  {
   "cell_type": "code",
   "execution_count": 81,
   "id": "6a9acbc2",
   "metadata": {},
   "outputs": [],
   "source": [
    "y_pred = pd.DataFrame({'y_pred': y_pred},index=indices)"
   ]
  },
  {
   "cell_type": "code",
   "execution_count": 87,
   "id": "9a088408",
   "metadata": {
    "scrolled": true
   },
   "outputs": [
    {
     "data": {
      "text/plain": [
       "0.949812363870419"
      ]
     },
     "execution_count": 87,
     "metadata": {},
     "output_type": "execute_result"
    }
   ],
   "source": [
    "model.score(X_test,y_test)"
   ]
  }
 ],
 "metadata": {
  "kernelspec": {
   "display_name": "Python 3 (ipykernel)",
   "language": "python",
   "name": "python3"
  },
  "language_info": {
   "codemirror_mode": {
    "name": "ipython",
    "version": 3
   },
   "file_extension": ".py",
   "mimetype": "text/x-python",
   "name": "python",
   "nbconvert_exporter": "python",
   "pygments_lexer": "ipython3",
   "version": "3.9.12"
  }
 },
 "nbformat": 4,
 "nbformat_minor": 5
}
