{
 "cells": [
  {
   "cell_type": "code",
   "execution_count": 18,
   "id": "72200316",
   "metadata": {},
   "outputs": [],
   "source": [
    "import pandas as pd\n",
    "import numpy as np\n",
    "import matplotlib.pyplot as plt\n",
    "from sklearn.ensemble import GradientBoostingClassifier\n",
    "from sklearn.model_selection import train_test_split\n",
    "from sklearn.metrics import ndcg_score\n",
    "import copy\n",
    "import pickle"
   ]
  },
  {
   "cell_type": "code",
   "execution_count": 3,
   "id": "6e6fe97b",
   "metadata": {},
   "outputs": [
    {
     "data": {
      "text/plain": [
       "(4958347, 54)"
      ]
     },
     "execution_count": 3,
     "metadata": {},
     "output_type": "execute_result"
    }
   ],
   "source": [
    "training_data = pd.read_csv('data/training_set_VU_DM.csv')\n",
    "training_data.shape"
   ]
  },
  {
   "cell_type": "code",
   "execution_count": 4,
   "id": "7cefbcca",
   "metadata": {},
   "outputs": [],
   "source": [
    "training_data['target'] = (5*training_data['booking_bool']) + training_data['click_bool']"
   ]
  },
  {
   "cell_type": "code",
   "execution_count": 5,
   "id": "3df0b78d",
   "metadata": {},
   "outputs": [],
   "source": [
    "z = training_data['prop_id'].value_counts() \n",
    "dict_z = z.to_dict() # converts to dictionary\n",
    "training_data['counts'] = training_data['prop_id'].map(dict_z) "
   ]
  },
  {
   "cell_type": "code",
   "execution_count": 6,
   "id": "86f9af49",
   "metadata": {},
   "outputs": [],
   "source": [
    "# test_data = pd.read_csv('data/test_set_VU_DM.csv')\n",
    "# test_data.shape"
   ]
  },
  {
   "cell_type": "code",
   "execution_count": 7,
   "id": "52f77b09",
   "metadata": {},
   "outputs": [],
   "source": [
    "# clicked_data = training_data[training_data['click_bool'] == 1].reset_index(drop=True)\n",
    "# clicked_data.shape"
   ]
  },
  {
   "cell_type": "code",
   "execution_count": 8,
   "id": "f55e8482",
   "metadata": {},
   "outputs": [],
   "source": [
    "# booked_data = training_data[training_data['booking_bool'] == 1].reset_index(drop=True)\n",
    "# booked_data.shape"
   ]
  },
  {
   "cell_type": "code",
   "execution_count": 9,
   "id": "3e966ab9",
   "metadata": {},
   "outputs": [],
   "source": [
    "# model_traindata = booked_data[['srch_id','visitor_location_country_id','prop_country_id','prop_id','prop_location_score1','prop_location_score2','srch_length_of_stay','srch_booking_window']]\n",
    "# model_testdata = test_data[['srch_id','visitor_location_country_id','prop_country_id','prop_id','prop_location_score1','prop_location_score2','srch_length_of_stay','srch_booking_window']]"
   ]
  },
  {
   "cell_type": "code",
   "execution_count": 10,
   "id": "310a0e2f",
   "metadata": {},
   "outputs": [],
   "source": [
    "model_traindata = training_data.copy(deep=True)"
   ]
  },
  {
   "cell_type": "code",
   "execution_count": 11,
   "id": "24d58086",
   "metadata": {},
   "outputs": [],
   "source": [
    "model_traindata = model_traindata[['srch_id',\n",
    "                                   'site_id',\n",
    "                                   'visitor_location_country_id',\n",
    "                                   'prop_country_id',\n",
    "                                   'prop_starrating',\n",
    "                                   'prop_review_score',\n",
    "                                   'prop_brand_bool',\n",
    "                                   'prop_location_score1',\n",
    "                                   'prop_location_score2',\n",
    "                                   'prop_log_historical_price',\n",
    "                                   'price_usd',\n",
    "                                   'promotion_flag',\n",
    "                                   'srch_destination_id',\n",
    "                                   'srch_length_of_stay',\n",
    "                                   'srch_booking_window',\n",
    "                                   'srch_adults_count',\n",
    "                                   'srch_children_count',\n",
    "                                   'srch_room_count',\n",
    "                                   'srch_saturday_night_bool',\n",
    "                                   'orig_destination_distance',\n",
    "                                   'random_bool',\n",
    "                                   'target',\n",
    "                                   'counts'\n",
    "                                  ]]"
   ]
  },
  {
   "cell_type": "code",
   "execution_count": 12,
   "id": "cb13cc3d",
   "metadata": {},
   "outputs": [
    {
     "data": {
      "text/plain": [
       "srch_id                              0\n",
       "site_id                              0\n",
       "visitor_location_country_id          0\n",
       "prop_country_id                      0\n",
       "prop_starrating                      0\n",
       "prop_review_score                 7364\n",
       "prop_brand_bool                      0\n",
       "prop_location_score1                 0\n",
       "prop_location_score2           1090348\n",
       "prop_log_historical_price            0\n",
       "price_usd                            0\n",
       "promotion_flag                       0\n",
       "srch_destination_id                  0\n",
       "srch_length_of_stay                  0\n",
       "srch_booking_window                  0\n",
       "srch_adults_count                    0\n",
       "srch_children_count                  0\n",
       "srch_room_count                      0\n",
       "srch_saturday_night_bool             0\n",
       "orig_destination_distance      1607782\n",
       "random_bool                          0\n",
       "target                               0\n",
       "counts                               0\n",
       "dtype: int64"
      ]
     },
     "execution_count": 12,
     "metadata": {},
     "output_type": "execute_result"
    }
   ],
   "source": [
    "model_traindata.isna().sum()"
   ]
  },
  {
   "cell_type": "code",
   "execution_count": 13,
   "id": "a635bc35",
   "metadata": {},
   "outputs": [],
   "source": [
    "model_traindata = model_traindata.dropna().reset_index(drop=True)"
   ]
  },
  {
   "cell_type": "code",
   "execution_count": 14,
   "id": "2d32c5a7",
   "metadata": {},
   "outputs": [],
   "source": [
    "features = model_traindata.drop('target', axis=1)\n",
    "targets  = model_traindata['target']"
   ]
  },
  {
   "cell_type": "code",
   "execution_count": 15,
   "id": "789a1b2c",
   "metadata": {},
   "outputs": [],
   "source": [
    "X_train, X_test, y_train, y_test = train_test_split(features, targets, test_size=0.2, random_state=1)"
   ]
  },
  {
   "cell_type": "code",
   "execution_count": null,
   "id": "424ab246",
   "metadata": {},
   "outputs": [],
   "source": [
    "del z\n",
    "del dict_z\n",
    "del model_traindata\n",
    "del features\n",
    "del targets"
   ]
  },
  {
   "cell_type": "code",
   "execution_count": 16,
   "id": "c515898e",
   "metadata": {},
   "outputs": [],
   "source": [
    "model = GradientBoostingClassifier().fit(X_train, y_train)"
   ]
  },
  {
   "cell_type": "code",
   "execution_count": 17,
   "id": "c945e577",
   "metadata": {},
   "outputs": [],
   "source": [
    "filename = 'GBC_model.sav'\n",
    "pickle.dump(model, open(filename, 'wb'))"
   ]
  },
  {
   "cell_type": "code",
   "execution_count": null,
   "id": "bf0dd6e8",
   "metadata": {},
   "outputs": [],
   "source": [
    "# filename = 'GBC_model.sav'\n",
    "# loaded_model = pickle.load(open(filename, 'rb'))"
   ]
  },
  {
   "cell_type": "code",
   "execution_count": 19,
   "id": "e1b11713",
   "metadata": {},
   "outputs": [],
   "source": [
    "y_pred = model.predict(X_test)"
   ]
  },
  {
   "cell_type": "code",
   "execution_count": 20,
   "id": "8ce2fc6f",
   "metadata": {},
   "outputs": [],
   "source": [
    "indices = list(X_test.index)"
   ]
  },
  {
   "cell_type": "code",
   "execution_count": 21,
   "id": "50165ffd",
   "metadata": {},
   "outputs": [],
   "source": [
    "y_pred = pd.DataFrame({'y_pred': y_pred},index=indices)"
   ]
  },
  {
   "cell_type": "code",
   "execution_count": 22,
   "id": "9a088408",
   "metadata": {
    "scrolled": true
   },
   "outputs": [
    {
     "name": "stdout",
     "output_type": "stream",
     "text": [
      "Mean accuracy : 0.949812363870419\n"
     ]
    }
   ],
   "source": [
    "print(f\"Mean accuracy : {model.score(X_test,y_test)}\")"
   ]
  },
  {
   "cell_type": "code",
   "execution_count": 23,
   "id": "75f00fe8",
   "metadata": {},
   "outputs": [
    {
     "ename": "ValueError",
     "evalue": "Found array with dim 3. Estimator expected <= 2.",
     "output_type": "error",
     "traceback": [
      "\u001b[0;31m---------------------------------------------------------------------------\u001b[0m",
      "\u001b[0;31mValueError\u001b[0m                                Traceback (most recent call last)",
      "Input \u001b[0;32mIn [23]\u001b[0m, in \u001b[0;36m<cell line: 1>\u001b[0;34m()\u001b[0m\n\u001b[0;32m----> 1\u001b[0m \u001b[38;5;28mprint\u001b[39m(\u001b[38;5;124mf\u001b[39m\u001b[38;5;124m\"\u001b[39m\u001b[38;5;124mNDCG : \u001b[39m\u001b[38;5;132;01m{\u001b[39;00mndcg_score([y_test],[y_pred])\u001b[38;5;132;01m}\u001b[39;00m\u001b[38;5;124m\"\u001b[39m)\n",
      "File \u001b[0;32m~/opt/anaconda3/lib/python3.9/site-packages/sklearn/metrics/_ranking.py:1616\u001b[0m, in \u001b[0;36mndcg_score\u001b[0;34m(y_true, y_score, k, sample_weight, ignore_ties)\u001b[0m\n\u001b[1;32m   1522\u001b[0m \u001b[38;5;124;03m\"\"\"Compute Normalized Discounted Cumulative Gain.\u001b[39;00m\n\u001b[1;32m   1523\u001b[0m \n\u001b[1;32m   1524\u001b[0m \u001b[38;5;124;03mSum the true scores ranked in the order induced by the predicted scores,\u001b[39;00m\n\u001b[0;32m   (...)\u001b[0m\n\u001b[1;32m   1613\u001b[0m \n\u001b[1;32m   1614\u001b[0m \u001b[38;5;124;03m\"\"\"\u001b[39;00m\n\u001b[1;32m   1615\u001b[0m y_true \u001b[38;5;241m=\u001b[39m check_array(y_true, ensure_2d\u001b[38;5;241m=\u001b[39m\u001b[38;5;28;01mFalse\u001b[39;00m)\n\u001b[0;32m-> 1616\u001b[0m y_score \u001b[38;5;241m=\u001b[39m \u001b[43mcheck_array\u001b[49m\u001b[43m(\u001b[49m\u001b[43my_score\u001b[49m\u001b[43m,\u001b[49m\u001b[43m \u001b[49m\u001b[43mensure_2d\u001b[49m\u001b[38;5;241;43m=\u001b[39;49m\u001b[38;5;28;43;01mFalse\u001b[39;49;00m\u001b[43m)\u001b[49m\n\u001b[1;32m   1617\u001b[0m check_consistent_length(y_true, y_score, sample_weight)\n\u001b[1;32m   1618\u001b[0m _check_dcg_target_type(y_true)\n",
      "File \u001b[0;32m~/opt/anaconda3/lib/python3.9/site-packages/sklearn/utils/validation.py:794\u001b[0m, in \u001b[0;36mcheck_array\u001b[0;34m(array, accept_sparse, accept_large_sparse, dtype, order, copy, force_all_finite, ensure_2d, allow_nd, ensure_min_samples, ensure_min_features, estimator)\u001b[0m\n\u001b[1;32m    789\u001b[0m         \u001b[38;5;28;01mraise\u001b[39;00m \u001b[38;5;167;01mValueError\u001b[39;00m(\n\u001b[1;32m    790\u001b[0m             \u001b[38;5;124m\"\u001b[39m\u001b[38;5;124mUnable to convert array of bytes/strings \u001b[39m\u001b[38;5;124m\"\u001b[39m\n\u001b[1;32m    791\u001b[0m             \u001b[38;5;124m\"\u001b[39m\u001b[38;5;124minto decimal numbers with dtype=\u001b[39m\u001b[38;5;124m'\u001b[39m\u001b[38;5;124mnumeric\u001b[39m\u001b[38;5;124m'\u001b[39m\u001b[38;5;124m\"\u001b[39m\n\u001b[1;32m    792\u001b[0m         ) \u001b[38;5;28;01mfrom\u001b[39;00m \u001b[38;5;21;01me\u001b[39;00m\n\u001b[1;32m    793\u001b[0m \u001b[38;5;28;01mif\u001b[39;00m \u001b[38;5;129;01mnot\u001b[39;00m allow_nd \u001b[38;5;129;01mand\u001b[39;00m array\u001b[38;5;241m.\u001b[39mndim \u001b[38;5;241m>\u001b[39m\u001b[38;5;241m=\u001b[39m \u001b[38;5;241m3\u001b[39m:\n\u001b[0;32m--> 794\u001b[0m     \u001b[38;5;28;01mraise\u001b[39;00m \u001b[38;5;167;01mValueError\u001b[39;00m(\n\u001b[1;32m    795\u001b[0m         \u001b[38;5;124m\"\u001b[39m\u001b[38;5;124mFound array with dim \u001b[39m\u001b[38;5;132;01m%d\u001b[39;00m\u001b[38;5;124m. \u001b[39m\u001b[38;5;132;01m%s\u001b[39;00m\u001b[38;5;124m expected <= 2.\u001b[39m\u001b[38;5;124m\"\u001b[39m\n\u001b[1;32m    796\u001b[0m         \u001b[38;5;241m%\u001b[39m (array\u001b[38;5;241m.\u001b[39mndim, estimator_name)\n\u001b[1;32m    797\u001b[0m     )\n\u001b[1;32m    799\u001b[0m \u001b[38;5;28;01mif\u001b[39;00m force_all_finite:\n\u001b[1;32m    800\u001b[0m     _assert_all_finite(array, allow_nan\u001b[38;5;241m=\u001b[39mforce_all_finite \u001b[38;5;241m==\u001b[39m \u001b[38;5;124m\"\u001b[39m\u001b[38;5;124mallow-nan\u001b[39m\u001b[38;5;124m\"\u001b[39m)\n",
      "\u001b[0;31mValueError\u001b[0m: Found array with dim 3. Estimator expected <= 2."
     ]
    }
   ],
   "source": [
    "print(f\"NDCG : {ndcg_score([y_test],[y_pred])}\")"
   ]
  },
  {
   "cell_type": "code",
   "execution_count": null,
   "id": "b1f8bc98",
   "metadata": {},
   "outputs": [],
   "source": []
  }
 ],
 "metadata": {
  "kernelspec": {
   "display_name": "Python 3 (ipykernel)",
   "language": "python",
   "name": "python3"
  },
  "language_info": {
   "codemirror_mode": {
    "name": "ipython",
    "version": 3
   },
   "file_extension": ".py",
   "mimetype": "text/x-python",
   "name": "python",
   "nbconvert_exporter": "python",
   "pygments_lexer": "ipython3",
   "version": "3.9.12"
  }
 },
 "nbformat": 4,
 "nbformat_minor": 5
}
