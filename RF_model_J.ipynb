{
 "cells": [
  {
   "cell_type": "code",
   "execution_count": 2,
   "id": "72200316",
   "metadata": {},
   "outputs": [],
   "source": [
    "import pandas as pd\n",
    "import numpy as np\n",
    "import matplotlib.pyplot as plt\n",
    "from sklearn.ensemble import GradientBoostingClassifier\n",
    "import pickle"
   ]
  },
  {
   "cell_type": "code",
   "execution_count": 3,
   "id": "6e6fe97b",
   "metadata": {},
   "outputs": [
    {
     "data": {
      "text/plain": [
       "(4958347, 54)"
      ]
     },
     "execution_count": 3,
     "metadata": {},
     "output_type": "execute_result"
    }
   ],
   "source": [
    "training_data = pd.read_csv('data/training_set_VU_DM.csv')\n",
    "training_data.shape"
   ]
  },
  {
   "cell_type": "code",
   "execution_count": 4,
   "id": "86f9af49",
   "metadata": {},
   "outputs": [
    {
     "data": {
      "text/plain": [
       "(4959183, 50)"
      ]
     },
     "execution_count": 4,
     "metadata": {},
     "output_type": "execute_result"
    }
   ],
   "source": [
    "test_data = pd.read_csv('data/test_set_VU_DM.csv')\n",
    "test_data.shape"
   ]
  },
  {
   "cell_type": "code",
   "execution_count": 5,
   "id": "52f77b09",
   "metadata": {},
   "outputs": [
    {
     "data": {
      "text/plain": [
       "(221879, 54)"
      ]
     },
     "execution_count": 5,
     "metadata": {},
     "output_type": "execute_result"
    }
   ],
   "source": [
    "clicked_data = training_data[training_data['click_bool'] == 1].reset_index(drop=True)\n",
    "clicked_data.shape"
   ]
  },
  {
   "cell_type": "code",
   "execution_count": 6,
   "id": "f55e8482",
   "metadata": {},
   "outputs": [
    {
     "data": {
      "text/plain": [
       "(138390, 54)"
      ]
     },
     "execution_count": 6,
     "metadata": {},
     "output_type": "execute_result"
    }
   ],
   "source": [
    "booked_data = training_data[training_data['booking_bool'] == 1].reset_index(drop=True)\n",
    "booked_data.shape"
   ]
  },
  {
   "cell_type": "code",
   "execution_count": 7,
   "id": "3e966ab9",
   "metadata": {},
   "outputs": [],
   "source": [
    "model_traindata = booked_data[['srch_id','visitor_location_country_id','prop_country_id','prop_id','prop_location_score1','prop_location_score2','srch_length_of_stay','srch_booking_window']]\n",
    "model_testdata = test_data[['srch_id','visitor_location_country_id','prop_country_id','prop_id','prop_location_score1','prop_location_score2','srch_length_of_stay','srch_booking_window']]"
   ]
  },
  {
   "cell_type": "code",
   "execution_count": 8,
   "id": "cb13cc3d",
   "metadata": {},
   "outputs": [
    {
     "data": {
      "text/plain": [
       "srch_id                            0\n",
       "visitor_location_country_id        0\n",
       "prop_country_id                    0\n",
       "prop_id                            0\n",
       "prop_location_score1               0\n",
       "prop_location_score2           14474\n",
       "srch_length_of_stay                0\n",
       "srch_booking_window                0\n",
       "dtype: int64"
      ]
     },
     "execution_count": 8,
     "metadata": {},
     "output_type": "execute_result"
    }
   ],
   "source": [
    "model_traindata.isna().sum()"
   ]
  },
  {
   "cell_type": "code",
   "execution_count": 9,
   "id": "91f7bfec",
   "metadata": {},
   "outputs": [
    {
     "data": {
      "text/plain": [
       "srch_id                              0\n",
       "visitor_location_country_id          0\n",
       "prop_country_id                      0\n",
       "prop_id                              0\n",
       "prop_location_score1                 0\n",
       "prop_location_score2           1088032\n",
       "srch_length_of_stay                  0\n",
       "srch_booking_window                  0\n",
       "dtype: int64"
      ]
     },
     "execution_count": 9,
     "metadata": {},
     "output_type": "execute_result"
    }
   ],
   "source": [
    "model_testdata.isna().sum()"
   ]
  },
  {
   "cell_type": "code",
   "execution_count": 10,
   "id": "0cd685f6",
   "metadata": {},
   "outputs": [],
   "source": [
    "model_traindata_drop = model_traindata.dropna().reset_index(drop=True)\n",
    "model_testdata_drop = model_testdata.dropna().reset_index(drop=True)"
   ]
  },
  {
   "cell_type": "code",
   "execution_count": 11,
   "id": "0404695d",
   "metadata": {},
   "outputs": [
    {
     "data": {
      "text/plain": [
       "(123916, 8)"
      ]
     },
     "execution_count": 11,
     "metadata": {},
     "output_type": "execute_result"
    }
   ],
   "source": [
    "model_traindata_drop.shape"
   ]
  },
  {
   "cell_type": "code",
   "execution_count": 12,
   "id": "ddbda99d",
   "metadata": {},
   "outputs": [
    {
     "data": {
      "text/plain": [
       "(3871151, 8)"
      ]
     },
     "execution_count": 12,
     "metadata": {},
     "output_type": "execute_result"
    }
   ],
   "source": [
    "model_testdata_drop.shape"
   ]
  },
  {
   "cell_type": "code",
   "execution_count": 16,
   "id": "9b9f083f",
   "metadata": {},
   "outputs": [],
   "source": [
    "sample_model_traindata_drop = model_traindata_drop.sample(1000)\n",
    "sample_model_testdata_drop = model_testdata_drop.sample(100)"
   ]
  },
  {
   "cell_type": "code",
   "execution_count": 17,
   "id": "046d2f82",
   "metadata": {},
   "outputs": [],
   "source": [
    "X_train = sample_model_traindata_drop[['srch_id','visitor_location_country_id','prop_country_id','prop_location_score1','prop_location_score2','srch_length_of_stay','srch_booking_window']]\n",
    "Y_train = sample_model_traindata_drop['prop_id']\n",
    "\n",
    "X_test = sample_model_testdata_drop[['srch_id','visitor_location_country_id','prop_country_id','prop_location_score1','prop_location_score2','srch_length_of_stay','srch_booking_window']]"
   ]
  },
  {
   "cell_type": "code",
   "execution_count": 18,
   "id": "c515898e",
   "metadata": {},
   "outputs": [],
   "source": [
    "model = GradientBoostingClassifier().fit(X_train, Y_train)\n",
    "\n"
   ]
  },
  {
   "cell_type": "code",
   "execution_count": null,
   "id": "28c05883",
   "metadata": {},
   "outputs": [],
   "source": [
    "# # Now the df is a generator and hence you can do something like this\n",
    "# for part_df in df:\n",
    "#   '''\n",
    "#   Now here you just consider the \"part_df\" as your original df and do all\n",
    "# the preprocessing and stuff on it and train the model on it. After training\n",
    "# the model on this part_df you save the model and reload it in the next iteration.\n",
    "#   '''\n",
    "\n",
    "#   model = None\n",
    "#   if (os.exists(model_path)): # you won't have a model for first iteration\n",
    "#     model = # Here you load the model\n",
    "#   else:\n",
    "#     model = RandomForestClassifier()\n",
    "\n",
    "#   model.fit(X_train, Y_train)\n",
    "\n",
    "#   filename = 'finalized_model.sav'\n",
    "# pickle.dump(model, open(filename, 'wb'))"
   ]
  },
  {
   "cell_type": "code",
   "execution_count": 19,
   "id": "e1b11713",
   "metadata": {},
   "outputs": [],
   "source": [
    "Y_pred = model.predict(X_test)"
   ]
  },
  {
   "cell_type": "code",
   "execution_count": 20,
   "id": "9a088408",
   "metadata": {},
   "outputs": [
    {
     "data": {
      "text/plain": [
       "array([  3814,    415,  87871,  24226,  74658,  57026,  58471,    415,\n",
       "       119636,  57605,  58167,  60084, 102499,  53128,  82584,    415,\n",
       "        23911,  33961,  79767, 136469,    415,   5988,  38535, 115731,\n",
       "        48875,  23075,  88164,  39561,   9813,   4942,    415,  52832,\n",
       "        28183,  90994,  60805,  96585,  25375,  34440,  95307,  86428,\n",
       "        56089,  40500,  31524,   3723,  38837,  17249,   3394,   4298,\n",
       "        48380,  24545,  14467,  84604, 121991,  40996,  23190,  51158,\n",
       "        23190,  29286,  38765,  16499, 137431, 131920,  52479,  43092,\n",
       "       108116,  10552,  73386,  11522,  67260, 100669,  17249,  16736,\n",
       "         6711,  34094,  18651,  20672,  69832,   1228,  23190, 133809,\n",
       "        52204,  87871,  56089,  35810,  10552,  47392, 121991,  35810,\n",
       "        48380,  11522,  73379,  57934,  93345,  97878, 108068,  31333,\n",
       "        73386,  24336,   9813,  62726])"
      ]
     },
     "execution_count": 20,
     "metadata": {},
     "output_type": "execute_result"
    }
   ],
   "source": [
    "Y_pred"
   ]
  }
 ],
 "metadata": {
  "kernelspec": {
   "display_name": "Python 3 (ipykernel)",
   "language": "python",
   "name": "python3"
  },
  "language_info": {
   "codemirror_mode": {
    "name": "ipython",
    "version": 3
   },
   "file_extension": ".py",
   "mimetype": "text/x-python",
   "name": "python",
   "nbconvert_exporter": "python",
   "pygments_lexer": "ipython3",
   "version": "3.9.12"
  }
 },
 "nbformat": 4,
 "nbformat_minor": 5
}
