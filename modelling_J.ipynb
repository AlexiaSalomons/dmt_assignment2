{
 "cells": [
  {
   "cell_type": "code",
   "execution_count": 1,
   "id": "e5d81014",
   "metadata": {},
   "outputs": [],
   "source": [
    "import pandas as pd\n",
    "\n",
    "from distributed import LocalCluster, Client\n",
    "import xgboost as xgb\n",
    "import dask.dataframe"
   ]
  },
  {
   "cell_type": "code",
   "execution_count": 2,
   "id": "4df9f5e0",
   "metadata": {},
   "outputs": [],
   "source": [
    "training_data = pd.read_csv('data/training_set_VU_DM.csv')\n",
    "test_data = pd.read_csv('data/test_set_VU_DM.csv')"
   ]
  },
  {
   "cell_type": "code",
   "execution_count": 3,
   "id": "6ffc898e",
   "metadata": {},
   "outputs": [],
   "source": [
    "booked_data = training_data[training_data['booking_bool'] == 1].reset_index(drop=True)"
   ]
  },
  {
   "cell_type": "code",
   "execution_count": 4,
   "id": "f2a35e1c",
   "metadata": {},
   "outputs": [],
   "source": [
    "model_traindata = booked_data[['srch_id','visitor_location_country_id','prop_country_id','prop_id','prop_location_score1','prop_location_score2','srch_length_of_stay','srch_booking_window']]\n",
    "model_testdata = test_data[['srch_id','visitor_location_country_id','prop_country_id','prop_id','prop_location_score1','prop_location_score2','srch_length_of_stay','srch_booking_window']]"
   ]
  },
  {
   "cell_type": "code",
   "execution_count": 5,
   "id": "db7ff222",
   "metadata": {},
   "outputs": [],
   "source": [
    "model_traindata_drop = model_traindata.dropna().reset_index(drop=True)\n",
    "model_testdata_drop = model_testdata.dropna().reset_index(drop=True)"
   ]
  },
  {
   "cell_type": "code",
   "execution_count": 6,
   "id": "f9c73c02",
   "metadata": {},
   "outputs": [],
   "source": [
    "X_train = model_traindata_drop[['srch_id','visitor_location_country_id','prop_country_id','prop_location_score1','prop_location_score2','srch_length_of_stay','srch_booking_window']]\n",
    "Y_train = model_traindata_drop['prop_id']\n",
    "\n",
    "X_test = model_testdata_drop[['srch_id','visitor_location_country_id','prop_country_id','prop_location_score1','prop_location_score2','srch_length_of_stay','srch_booking_window']]"
   ]
  },
  {
   "cell_type": "code",
   "execution_count": 7,
   "id": "96910aa5",
   "metadata": {},
   "outputs": [],
   "source": [
    "del booked_data\n",
    "\n",
    "del model_traindata\n",
    "del model_testdata\n",
    "\n",
    "del model_traindata_drop\n",
    "del model_testdata_drop"
   ]
  },
  {
   "cell_type": "code",
   "execution_count": 8,
   "id": "b9cb7536",
   "metadata": {},
   "outputs": [],
   "source": [
    "X_train_dask = dask.dataframe.from_pandas(X_train,npartitions=100)\n",
    "Y_train_dask = dask.dataframe.from_pandas(Y_train,npartitions=100)\n",
    "\n",
    "X_test_dask = dask.dataframe.from_pandas(X_test,npartitions=100)"
   ]
  },
  {
   "cell_type": "code",
   "execution_count": null,
   "id": "dfefc39b",
   "metadata": {},
   "outputs": [],
   "source": [
    "def main(client: Client) -> None:\n",
    "    clf = xgb.dask.DaskXGBClassifier(n_estimators=100, tree_method=\"hist\")\n",
    "    clf.client = client  # assign the client\n",
    "    clf.fit(X_train_dask, Y_train_dask, eval_set=[(X_train_dask, Y_train_dask)])\n",
    "    proba = clf.predict_proba(X_test_dask)\n",
    "\n",
    "\n",
    "if __name__ == \"__main__\":\n",
    "    with LocalCluster() as cluster:\n",
    "        with Client(cluster) as client:\n",
    "            main(client)"
   ]
  },
  {
   "cell_type": "code",
   "execution_count": null,
   "id": "3e2b8c32",
   "metadata": {},
   "outputs": [],
   "source": []
  }
 ],
 "metadata": {
  "kernelspec": {
   "display_name": "Python 3 (ipykernel)",
   "language": "python",
   "name": "python3"
  },
  "language_info": {
   "codemirror_mode": {
    "name": "ipython",
    "version": 3
   },
   "file_extension": ".py",
   "mimetype": "text/x-python",
   "name": "python",
   "nbconvert_exporter": "python",
   "pygments_lexer": "ipython3",
   "version": "3.9.12"
  }
 },
 "nbformat": 4,
 "nbformat_minor": 5
}
